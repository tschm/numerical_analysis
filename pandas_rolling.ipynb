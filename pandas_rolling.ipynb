{
 "cells": [
  {
   "cell_type": "code",
   "execution_count": null,
   "metadata": {},
   "outputs": [],
   "source": [
    "import numpy as np\n",
    "from numpy.linalg import norm\n",
    "import pandas as pd\n",
    "import matplotlib.pyplot as plt"
   ]
  },
  {
   "cell_type": "raw",
   "metadata": {},
   "source": [
    "https://docs.scipy.org/doc/scipy/reference/generated/scipy.signal.windows.exponential.html#scipy.signal.windows.exponential"
   ]
  },
  {
   "cell_type": "code",
   "execution_count": null,
   "metadata": {},
   "outputs": [],
   "source": [
    "window = 10\n",
    "rands = pd.Series(np.random.randn(100))"
   ]
  },
  {
   "cell_type": "markdown",
   "metadata": {},
   "source": [
    "# Exponential rolling window"
   ]
  },
  {
   "cell_type": "code",
   "execution_count": null,
   "metadata": {},
   "outputs": [],
   "source": [
    "tau = 3"
   ]
  },
  {
   "cell_type": "code",
   "execution_count": null,
   "metadata": {},
   "outputs": [],
   "source": [
    "r_pandas = (\n",
    "    rands\n",
    "    .rolling(window, win_type='exponential')\n",
    "    .mean(tau=tau, center=0, sym=False)\n",
    ")\n",
    "rands.plot()\n",
    "r_pandas.plot()"
   ]
  },
  {
   "cell_type": "code",
   "execution_count": null,
   "metadata": {},
   "outputs": [],
   "source": [
    "xxx = np.arange(window)\n",
    "weights = np.exp(-xxx / tau)\n",
    "integral = weights.sum() / len(weights)\n",
    "weights /= integral\n",
    "plt.plot(xxx, weights)\n",
    "weights.sum() / len(weights)"
   ]
  },
  {
   "cell_type": "code",
   "execution_count": null,
   "metadata": {},
   "outputs": [],
   "source": [
    "r_manual = rands.rolling(window).apply(lambda x: (weights * x).mean())\n",
    "norm((r_pandas - r_manual).iloc[window - 1:])"
   ]
  },
  {
   "cell_type": "markdown",
   "metadata": {},
   "source": [
    "# Rolling mean"
   ]
  },
  {
   "cell_type": "code",
   "execution_count": null,
   "metadata": {},
   "outputs": [],
   "source": [
    "r_pandas = (\n",
    "    rands\n",
    "    .rolling(window)\n",
    "    .mean()\n",
    ")\n",
    "rands.plot()\n",
    "r_pandas.plot()"
   ]
  },
  {
   "cell_type": "code",
   "execution_count": null,
   "metadata": {},
   "outputs": [],
   "source": [
    "xxx = np.arange(window)\n",
    "weights = np.ones(len(xxx))\n",
    "integral = weights.sum() / len(weights)\n",
    "weights /= integral\n",
    "plt.plot(xxx, weights)\n",
    "weights.sum() / len(weights)"
   ]
  },
  {
   "cell_type": "code",
   "execution_count": null,
   "metadata": {},
   "outputs": [],
   "source": [
    "r_manual = rands.rolling(window).apply(lambda x: (weights * x).mean())\n",
    "norm((r_pandas - r_manual).iloc[window - 1:])"
   ]
  }
 ],
 "metadata": {
  "kernelspec": {
   "display_name": "Python 3",
   "language": "python",
   "name": "python3"
  },
  "language_info": {
   "codemirror_mode": {
    "name": "ipython",
    "version": 3
   },
   "file_extension": ".py",
   "mimetype": "text/x-python",
   "name": "python",
   "nbconvert_exporter": "python",
   "pygments_lexer": "ipython3",
   "version": "3.10.6"
  }
 },
 "nbformat": 4,
 "nbformat_minor": 4
}
