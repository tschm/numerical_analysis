{
 "cells": [
  {
   "cell_type": "code",
   "execution_count": null,
   "id": "a3c60229",
   "metadata": {},
   "outputs": [],
   "source": [
    "from os.path import join\n",
    "from itertools import accumulate\n",
    "from functools import partial\n",
    "from multiprocessing import Pool\n",
    "import numpy as np\n",
    "import pandas as pd\n",
    "import warnings\n",
    "warnings.filterwarnings('ignore')\n",
    "from pca_factors_model import (\n",
    "    cut_dates, read_residuals,\n",
    "    get_pca_factor_model)\n",
    "from utils import ou_fit\n",
    "import matplotlib.pyplot as plt"
   ]
  },
  {
   "cell_type": "code",
   "execution_count": null,
   "id": "d98e2580",
   "metadata": {},
   "outputs": [],
   "source": [
    "N_YEARS = 1 / 12\n",
    "window = pd.Timedelta(days=N_YEARS * 252)\n",
    "N_FACTORS = 10\n",
    "THRESH_RSQUARED = 0.75\n",
    "LOW = 0.5\n",
    "HIGH = 1.25\n",
    "DIR_FACTORS_MODELS = './factors_models/'"
   ]
  },
  {
   "cell_type": "markdown",
   "id": "8da2fd7a",
   "metadata": {},
   "source": [
    "# Data loading"
   ]
  },
  {
   "cell_type": "code",
   "execution_count": null,
   "id": "1abdd751",
   "metadata": {},
   "outputs": [],
   "source": [
    "prices = pd.read_parquet('prices_yf.parquet')\n",
    "THRESH = 0.8\n",
    "nulls = prices.isnull().mean(axis=0)\n",
    "stocks_w_nans = nulls[nulls > THRESH].sort_values()\n",
    "stocks_w_nans"
   ]
  },
  {
   "cell_type": "code",
   "execution_count": null,
   "id": "f3d09279",
   "metadata": {},
   "outputs": [],
   "source": [
    "cols = prices.columns\n",
    "# stocks = cols[~cols.isin(stocks_w_nans.index)]\n",
    "stocks = list(cols)\n",
    "prices = (\n",
    "    prices\n",
    "    .loc[:, stocks]\n",
    "#    .ffill(limit=2)\n",
    "    .dropna()\n",
    ")"
   ]
  },
  {
   "cell_type": "code",
   "execution_count": null,
   "id": "2b00834e",
   "metadata": {},
   "outputs": [],
   "source": [
    "univ_stacked = pd.concat([\n",
    "    prices.stack(dropna=False).reset_index(),\n",
    "    prices.pct_change().stack(dropna=False).reset_index()[0]  # column 0; not clean (dividends, splits, ...)\n",
    "], axis=1)\n",
    "univ_stacked.columns = ['date', 'id', 'price', 'chg']  # price is mid_price\n",
    "CUT = '2007'  # '2006-09-19'\n",
    "univ_stacked = univ_stacked.query(f'date >= {CUT}')\n",
    "univ = univ_stacked.pivot(index='date', columns='id')\n",
    "univ"
   ]
  },
  {
   "cell_type": "code",
   "execution_count": null,
   "id": "f3de0cd9",
   "metadata": {},
   "outputs": [],
   "source": [
    "returns = univ['chg'].iloc[1:]\n",
    "returns"
   ]
  },
  {
   "cell_type": "markdown",
   "id": "3d7bc659",
   "metadata": {},
   "source": [
    "# Residuals returns, rolling PCA factor model"
   ]
  },
  {
   "cell_type": "code",
   "execution_count": null,
   "id": "da085044",
   "metadata": {},
   "outputs": [],
   "source": [
    "%%time\n",
    "def get_pca_factor_model_rolling(date_end):\n",
    "    dic = get_pca_factor_model(\n",
    "        returns.dropna().loc[date_end - window:date_end],\n",
    "        n_factors=N_FACTORS)\n",
    "    for name, vals in dic.items():\n",
    "        vals.reset_index().to_parquet(join(\n",
    "            DIR_FACTORS_MODELS, f\"{date_end.strftime('%y%m%d')}_{name}.parquet\"))\n",
    "\n",
    "with Pool() as pool:\n",
    "    list(pool.imap_unordered(\n",
    "        get_pca_factor_model_rolling, cut_dates(returns.index, window)))\n",
    "    \n",
    "spreads = (\n",
    "    read_residuals(DIR_FACTORS_MODELS)\n",
    "    .cumsum())\n",
    "spreads"
   ]
  },
  {
   "cell_type": "markdown",
   "id": "9b9ea2a8",
   "metadata": {},
   "source": [
    "# Selection"
   ]
  },
  {
   "cell_type": "code",
   "execution_count": null,
   "id": "bac55c57",
   "metadata": {},
   "outputs": [],
   "source": [
    "%%time\n",
    "\n",
    "def fit_ou_rolling(spreads, window):\n",
    "    rolled = spreads.rolling(min_periods=2, window=window)\n",
    "    keys = ['theta', 'score']\n",
    "    return {\n",
    "        key: rolled.apply(lambda x: ou_fit(x)[key], raw=True)\n",
    "        for key in keys\n",
    "    }\n",
    "\n",
    "params = fit_ou_rolling(spreads, window)\n",
    "mask_score = params['score'] >= THRESH_RSQUARED\n",
    "(\n",
    "    params['theta']\n",
    "    .rolling(window)\n",
    "    .mean()\n",
    "    .where(mask_score)\n",
    "    .stack()\n",
    "    .groupby('id')\n",
    "    .mean()\n",
    "    .sort_values()\n",
    "    .tail(5)\n",
    "    .index\n",
    "    .to_list()\n",
    ")"
   ]
  },
  {
   "cell_type": "code",
   "execution_count": null,
   "id": "d62e8303",
   "metadata": {},
   "outputs": [],
   "source": [
    "def selection(params, window, n_stocks, thresh_rsquared):\n",
    "    mask_score = params['score'] >= thresh_rsquared\n",
    "    return (\n",
    "        params['theta']\n",
    "        .rolling(window)\n",
    "        .mean()\n",
    "        .where(mask_score)\n",
    "        .stack()\n",
    "        .groupby('id')\n",
    "        .mean()\n",
    "        .sort_values()\n",
    "        .tail(n_stocks)\n",
    "        .index\n",
    "        .to_list()\n",
    "    )\n",
    "\n",
    "spreads = (\n",
    "    read_residuals(DIR_FACTORS_MODELS)\n",
    "    .cumsum())\n",
    "params = fit_ou_rolling(spreads, window)\n",
    "selected = selection(params, window, 3, THRESH_RSQUARED)\n",
    "selected"
   ]
  },
  {
   "cell_type": "code",
   "execution_count": null,
   "id": "21ec1b33",
   "metadata": {},
   "outputs": [],
   "source": [
    "def fit(spreads, window, n_stocks, thresh_rsquared):\n",
    "    params = fit_ou_rolling(spreads, window)\n",
    "    selected = selection(params, window, n_stocks, thresh_rsquared)\n",
    "    spreads = spreads[selected]\n",
    "    descs = spreads.describe()\n",
    "    return selected, spreads, descs\n",
    "\n",
    "fit(spreads, window, 3, THRESH_RSQUARED)[-1]"
   ]
  },
  {
   "cell_type": "markdown",
   "id": "3a47f478",
   "metadata": {},
   "source": [
    "# Trading period"
   ]
  },
  {
   "cell_type": "code",
   "execution_count": null,
   "id": "42267d94",
   "metadata": {},
   "outputs": [],
   "source": [
    "def trading_rule(cur_pos_spread, st_spread, **kwargs):\n",
    "    assert 'low' in kwargs and 'high' in kwargs and kwargs['high'] > kwargs['low']\n",
    "    new_pos_spread = 0\n",
    "    if st_spread < -kwargs['high']:\n",
    "        new_pos_spread = +1\n",
    "    elif st_spread > +kwargs['high']:\n",
    "        new_pos_spread = -1\n",
    "    # st_spread in [-kwargs['low'], kwargs['high']]\n",
    "    elif (\n",
    "        kwargs['low'] <= np.abs(st_spread) <= kwargs['high'] and\n",
    "        np.sign(st_spread) * cur_pos_spread == -1):\n",
    "        new_pos_spread = cur_pos_spread\n",
    "    return new_pos_spread\n",
    "\n",
    "xxx = np.linspace(0, 3, 100)\n",
    "yyy = 2 * np.sin(3 * xxx)\n",
    "\n",
    "kwargs = dict(low=LOW, high=HIGH)\n",
    "rule = partial(trading_rule, **kwargs)\n",
    "pos_spread = accumulate(yyy, rule, initial=0)\n",
    "pos_spread = list(pos_spread)[:-1]\n",
    "plt.plot(xxx, pos_spread)\n",
    "plt.plot(xxx, yyy)\n",
    "plt.grid(True)"
   ]
  },
  {
   "cell_type": "code",
   "execution_count": null,
   "id": "44ea8543",
   "metadata": {},
   "outputs": [],
   "source": [
    "def trade_series(st_spread, trade_rule, **kwargs):\n",
    "    rule = partial(trade_rule, **kwargs)\n",
    "    pos = accumulate(st_spread.values, rule, initial=0)\n",
    "    return pd.Series(index=st_spread.index, data=list(pos)[:-1])\n",
    "\n",
    "xxx = np.linspace(0, 3, 100)\n",
    "yyy = pd.Series(2 * np.sin(3 * xxx))\n",
    "\n",
    "kwargs = dict(low=LOW, high=HIGH)\n",
    "pos = trade_series(yyy, trading_rule, **kwargs)\n",
    "plt.plot(xxx, pos)\n",
    "plt.plot(xxx, yyy)\n",
    "plt.grid(True)"
   ]
  },
  {
   "cell_type": "code",
   "execution_count": null,
   "id": "b344ae71",
   "metadata": {},
   "outputs": [],
   "source": [
    "spread = spreads.iloc[:, 0]\n",
    "pos = trade_series(spread, trading_rule, low=LOW, high=HIGH)\n",
    "spread.plot()\n",
    "pos.mul(spread.max()).plot(grid=True)"
   ]
  },
  {
   "cell_type": "code",
   "execution_count": null,
   "id": "f11ba8a8",
   "metadata": {},
   "outputs": [],
   "source": [
    "selected, spreads, descs = fit(\n",
    "    spreads, window, 3, THRESH_RSQUARED)\n",
    "kwargs = dict(low=LOW, high=HIGH)\n",
    "spreads.apply(partial(trade_series, trade_rule=trading_rule, **kwargs))"
   ]
  },
  {
   "cell_type": "markdown",
   "id": "990a9e55",
   "metadata": {},
   "source": [
    "## On real data"
   ]
  },
  {
   "cell_type": "code",
   "execution_count": null,
   "id": "a85037f4",
   "metadata": {},
   "outputs": [],
   "source": [
    "CUT = '2022-05-01'\n",
    "spreads_in = spreads.loc[:CUT]\n",
    "spreads_out = spreads.loc[CUT:]"
   ]
  },
  {
   "cell_type": "code",
   "execution_count": null,
   "id": "4057cefb",
   "metadata": {},
   "outputs": [],
   "source": [
    "def trade(spreads_out, top_stocks, descs, trade_rule, **kwargs):\n",
    "    st_spreads = (spreads_out[top_stocks] - descs.loc['mean', :]) / descs.loc['std', :]\n",
    "    return st_spreads.apply(partial(trade_series, trade_rule=trade_rule, **kwargs))\n",
    "\n",
    "top_stocks, spreads, descs = fit(spreads_in, window, 3, THRESH_RSQUARED)\n",
    "pos_spreads = trade(spreads_out, top_stocks, descs, trading_rule, low=LOW, high=HIGH)"
   ]
  },
  {
   "cell_type": "code",
   "execution_count": null,
   "id": "238f32cd",
   "metadata": {},
   "outputs": [],
   "source": [
    "spreads.plot()"
   ]
  },
  {
   "cell_type": "code",
   "execution_count": null,
   "id": "39d79e52",
   "metadata": {},
   "outputs": [],
   "source": [
    "pos_spreads.plot()"
   ]
  },
  {
   "cell_type": "code",
   "execution_count": null,
   "id": "7afdec7e",
   "metadata": {},
   "outputs": [],
   "source": [
    "def fit_n_trade(spreads_in, spreads_out, **kwargs):\n",
    "    top_stocks, spreads, descs = fit(\n",
    "        spreads_in, kwargs['window'], kwargs['n_stocks'], kwargs['thresh_rsquared'])\n",
    "    return trade(\n",
    "        spreads_out, top_stocks, descs, trading_rule,\n",
    "        low=kwargs['low'], high=kwargs['high'])"
   ]
  },
  {
   "cell_type": "code",
   "execution_count": null,
   "id": "fd4f1f3e",
   "metadata": {},
   "outputs": [],
   "source": [
    "%%timeit\n",
    "kwargs = {\n",
    "    'window': window,\n",
    "    'n_stocks': 3,\n",
    "    'thresh_rsquared': THRESH_RSQUARED,\n",
    "    'low': LOW,\n",
    "    'high': HIGH\n",
    "}\n",
    "_ = fit_n_trade(spreads_in, spreads_out, **kwargs)\n",
    "\n",
    "# 253 ms ± 33 ms per loop (mean ± std. dev. of 7 runs, 1 loop each)"
   ]
  },
  {
   "cell_type": "markdown",
   "id": "1c5555d7",
   "metadata": {},
   "source": [
    "# Rolling"
   ]
  },
  {
   "cell_type": "code",
   "execution_count": null,
   "id": "2f8ec51d",
   "metadata": {
    "scrolled": true
   },
   "outputs": [],
   "source": [
    "%%time\n",
    "\n",
    "kwargs = {\n",
    "    'window': window,\n",
    "    'n_stocks': 3,\n",
    "    'thresh_rsquared': THRESH_RSQUARED,\n",
    "    'low': LOW,\n",
    "    'high': HIGH\n",
    "}\n",
    "\n",
    "gcd = '1W'\n",
    "splits = [\n",
    "    ((end_date - window, end_date), (\n",
    "        end_date + pd.Timedelta(days=1), end_date + pd.Timedelta(days=1)))\n",
    "    for end_date in cut_dates(spreads.index, window)]\n",
    "\n",
    "def fit_n_trade_split(split):\n",
    "    spreads_in = spreads.loc[split[0][0]:split[0][1]]\n",
    "    spreads_out = spreads.loc[split[1][0]:split[1][1]]\n",
    "    return fit_n_trade(spreads_in, spreads_out, **kwargs)\n",
    "\n",
    "with Pool() as pool:\n",
    "    pos = list(pool.imap_unordered(fit_n_trade_split, splits))\n",
    "    pos = [p for p in pos if p is not None]\n",
    "    positions = pd.concat(pos).sort_index() if pos else None\n",
    "\n",
    "# CPU times: user 328 ms, sys: 39.2 ms, total: 367 ms\n",
    "# Wall time: 6.54 s"
   ]
  },
  {
   "cell_type": "code",
   "execution_count": null,
   "id": "ee834969",
   "metadata": {},
   "outputs": [],
   "source": [
    "assert positions is not None"
   ]
  },
  {
   "cell_type": "code",
   "execution_count": null,
   "id": "939c3d4d",
   "metadata": {},
   "outputs": [],
   "source": [
    "positions[positions.abs().gt(0)].count(axis=1).plot(grid=True)"
   ]
  },
  {
   "cell_type": "code",
   "execution_count": null,
   "id": "9387218f",
   "metadata": {},
   "outputs": [],
   "source": [
    "positions.sum(axis=1).plot(grid=True)"
   ]
  },
  {
   "cell_type": "code",
   "execution_count": null,
   "id": "34748ec7",
   "metadata": {},
   "outputs": [],
   "source": [
    "positions.abs().sum(axis=1).plot(grid=True)"
   ]
  },
  {
   "cell_type": "code",
   "execution_count": null,
   "id": "23676415",
   "metadata": {},
   "outputs": [],
   "source": [
    "positions = (\n",
    "    positions\n",
    "    .div(positions.abs().sum(axis=1), axis=0)\n",
    "    .fillna(0))\n",
    "positions.abs().sum(axis=1).plot(grid=True)"
   ]
  },
  {
   "cell_type": "code",
   "execution_count": null,
   "id": "1dccb45e",
   "metadata": {},
   "outputs": [],
   "source": [
    "positions.sum(axis=1).plot(grid=True)"
   ]
  },
  {
   "cell_type": "code",
   "execution_count": null,
   "id": "fd6879ac",
   "metadata": {},
   "outputs": [],
   "source": [
    "positions.diff().abs().sum(axis=1).plot(grid=True)"
   ]
  }
 ],
 "metadata": {
  "kernelspec": {
   "display_name": "Python 3 (ipykernel)",
   "language": "python",
   "name": "python3"
  },
  "language_info": {
   "codemirror_mode": {
    "name": "ipython",
    "version": 3
   },
   "file_extension": ".py",
   "mimetype": "text/x-python",
   "name": "python",
   "nbconvert_exporter": "python",
   "pygments_lexer": "ipython3",
   "version": "3.10.4"
  }
 },
 "nbformat": 4,
 "nbformat_minor": 5
}
