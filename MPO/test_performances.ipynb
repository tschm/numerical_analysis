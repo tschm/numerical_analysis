{
 "cells": [
  {
   "cell_type": "code",
   "execution_count": null,
   "id": "sized-advance",
   "metadata": {},
   "outputs": [],
   "source": [
    "from proximal_operators import *\n",
    "from auxiliary_functions import *\n",
    "from algos import *\n",
    "from test import *"
   ]
  },
  {
   "cell_type": "code",
   "execution_count": null,
   "id": "lasting-entry",
   "metadata": {},
   "outputs": [],
   "source": [
    "dim = 10000\n",
    "seed = None"
   ]
  },
  {
   "cell_type": "markdown",
   "id": "established-wright",
   "metadata": {},
   "source": [
    "# Dykstra"
   ]
  },
  {
   "cell_type": "code",
   "execution_count": null,
   "id": "adjusted-vegetable",
   "metadata": {},
   "outputs": [],
   "source": [
    "projs = [\n",
    "    partial(proj_box, lwb=0, upb=0.5),\n",
    "    partial(proj_affine_hyperplane, vec_or=np.ones(dim), intercept=1)]"
   ]
  },
  {
   "cell_type": "code",
   "execution_count": null,
   "id": "missing-witness",
   "metadata": {},
   "outputs": [],
   "source": [
    "%%timeit\n",
    "sol, errs, vrbls = dykstra(test_gen_mat_vec(seed, dim)[1], projs)\n",
    "# print(vrbls.keys())\n",
    "# fit_log_errs(errs, True)"
   ]
  },
  {
   "cell_type": "markdown",
   "id": "regulated-radar",
   "metadata": {},
   "source": [
    "# Long-only fully invested"
   ]
  },
  {
   "cell_type": "code",
   "execution_count": null,
   "id": "understood-dealer",
   "metadata": {},
   "outputs": [],
   "source": [
    "%%timeit\n",
    "sol_apgd_simplex, errs, vrbls = apgd(*test_gen_mat_vec(seed, dim), proj_simplex, som=1)\n",
    "# print(vrbls.keys())\n",
    "# fit_log_errs(errs, True)"
   ]
  },
  {
   "cell_type": "markdown",
   "id": "future-piece",
   "metadata": {},
   "source": [
    "# Long-only fully invested with box constraints"
   ]
  },
  {
   "cell_type": "code",
   "execution_count": null,
   "id": "heard-listing",
   "metadata": {},
   "outputs": [],
   "source": [
    "projs = [\n",
    "    partial(proj_box, lwb=0, upb=0.1),\n",
    "    partial(proj_affine_hyperplane, vec_or=np.ones(dim), intercept=1)]\n",
    "proj = lambda vec: dykstra(vec, projs)[0]"
   ]
  },
  {
   "cell_type": "code",
   "execution_count": null,
   "id": "integrated-synthetic",
   "metadata": {},
   "outputs": [],
   "source": [
    "%%timeit\n",
    "sol_apgd_simplex, errs, vrbls = apgd(*test_gen_mat_vec(seed, dim), proj)\n",
    "# print(vrbls.keys())\n",
    "# fit_log_errs(errs, True)"
   ]
  }
 ],
 "metadata": {
  "kernelspec": {
   "display_name": "Python 3",
   "language": "python",
   "name": "python3"
  },
  "language_info": {
   "codemirror_mode": {
    "name": "ipython",
    "version": 3
   },
   "file_extension": ".py",
   "mimetype": "text/x-python",
   "name": "python",
   "nbconvert_exporter": "python",
   "pygments_lexer": "ipython3",
   "version": "3.9.7"
  }
 },
 "nbformat": 4,
 "nbformat_minor": 5
}
