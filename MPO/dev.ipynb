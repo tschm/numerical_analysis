{
 "cells": [
  {
   "cell_type": "code",
   "execution_count": null,
   "id": "handy-strengthening",
   "metadata": {},
   "outputs": [],
   "source": [
    "from proximal_operators import *\n",
    "from auxiliary_functions import *\n",
    "from algos import *\n",
    "from test import *"
   ]
  },
  {
   "cell_type": "code",
   "execution_count": null,
   "id": "opposed-likelihood",
   "metadata": {},
   "outputs": [],
   "source": [
    "dim = 1000\n",
    "seed = None\n",
    "mat, vec = test_gen_mat_vec(seed, dim)"
   ]
  },
  {
   "cell_type": "markdown",
   "id": "traditional-circumstances",
   "metadata": {},
   "source": [
    "# Dykstra"
   ]
  },
  {
   "cell_type": "code",
   "execution_count": null,
   "id": "southwest-george",
   "metadata": {},
   "outputs": [],
   "source": [
    "%%time\n",
    "projs = [\n",
    "    partial(proj_box, lwb=0, upb=0.5),\n",
    "    partial(proj_affine_hyperplane, vec_or=np.ones(dim), intercept=1)]\n",
    "sol, errs, vrbls = dykstra(vec, projs)\n",
    "print(vrbls.keys())\n",
    "fit_log_errs(errs, True)"
   ]
  },
  {
   "cell_type": "markdown",
   "id": "efficient-mexican",
   "metadata": {},
   "source": [
    "# Long-only fully invested"
   ]
  },
  {
   "cell_type": "code",
   "execution_count": null,
   "id": "focused-ratio",
   "metadata": {},
   "outputs": [],
   "source": [
    "%%time\n",
    "sol_pgd_simplex, errs, vrbls = pgd(mat, vec, proj_simplex, som=1)\n",
    "print(vrbls.keys())\n",
    "fit_log_errs(errs, True)"
   ]
  },
  {
   "cell_type": "code",
   "execution_count": null,
   "id": "swiss-prior",
   "metadata": {},
   "outputs": [],
   "source": [
    "%%time\n",
    "sol_apgd_simplex, errs, vrbls = apgd(mat, vec, proj_simplex, som=1)\n",
    "print(vrbls.keys())\n",
    "fit_log_errs(errs, True)"
   ]
  },
  {
   "cell_type": "code",
   "execution_count": null,
   "id": "casual-reservoir",
   "metadata": {},
   "outputs": [],
   "source": [
    "%%time\n",
    "sol_admm_v1, errs, vrbls = admm(mat, vec, update_lin_cnst_proj_box, som=1)\n",
    "print(vrbls.keys())\n",
    "fit_log_errs(errs, True)"
   ]
  },
  {
   "cell_type": "code",
   "execution_count": null,
   "id": "eleven-depression",
   "metadata": {},
   "outputs": [],
   "source": [
    "%%time\n",
    "proj = partial(proj_simplex, som=1)\n",
    "sol_admm_v2, errs, vrbls = admm(mat, vec, update_uncnst_proj, proj=proj)\n",
    "print(vrbls.keys())\n",
    "fit_log_errs(errs, True)"
   ]
  },
  {
   "cell_type": "markdown",
   "id": "everyday-embassy",
   "metadata": {},
   "source": [
    "# Long-only fully invested with box constraints"
   ]
  },
  {
   "cell_type": "code",
   "execution_count": null,
   "id": "integral-fairy",
   "metadata": {},
   "outputs": [],
   "source": [
    "projs = [\n",
    "    partial(proj_box, lwb=0, upb=0.1),\n",
    "    partial(proj_affine_hyperplane, vec_or=np.ones(dim), intercept=1)]\n",
    "proj = lambda vec: dykstra(vec, projs)[0]"
   ]
  },
  {
   "cell_type": "code",
   "execution_count": null,
   "id": "adult-lingerie",
   "metadata": {},
   "outputs": [],
   "source": [
    "%%time\n",
    "sol_pgd_simplex, errs, vrbls = pgd(mat, vec, proj)\n",
    "print(vrbls.keys())\n",
    "fit_log_errs(errs, True)"
   ]
  },
  {
   "cell_type": "code",
   "execution_count": null,
   "id": "complete-helena",
   "metadata": {},
   "outputs": [],
   "source": [
    "%%time\n",
    "sol_apgd_simplex, errs, vrbls = apgd(mat, vec, proj)\n",
    "print(vrbls.keys())\n",
    "fit_log_errs(errs, True)"
   ]
  },
  {
   "cell_type": "code",
   "execution_count": null,
   "id": "little-prototype",
   "metadata": {},
   "outputs": [],
   "source": [
    "%%time\n",
    "sol_admm_v1, errs, vrbls = admm(mat, vec, update_lin_cnst_proj_box, lwb=0, upb=0.1)\n",
    "print(vrbls.keys())\n",
    "fit_log_errs(errs, True)"
   ]
  },
  {
   "cell_type": "code",
   "execution_count": null,
   "id": "powerful-distinction",
   "metadata": {},
   "outputs": [],
   "source": [
    "%%time\n",
    "sol_admm_v2, errs, vrbls = admm(mat, vec, update_uncnst_proj, proj=proj)\n",
    "print(vrbls.keys())\n",
    "fit_log_errs(errs, True)"
   ]
  }
 ],
 "metadata": {
  "kernelspec": {
   "display_name": "Python 3",
   "language": "python",
   "name": "python3"
  },
  "language_info": {
   "codemirror_mode": {
    "name": "ipython",
    "version": 3
   },
   "file_extension": ".py",
   "mimetype": "text/x-python",
   "name": "python",
   "nbconvert_exporter": "python",
   "pygments_lexer": "ipython3",
   "version": "3.9.7"
  }
 },
 "nbformat": 4,
 "nbformat_minor": 5
}
