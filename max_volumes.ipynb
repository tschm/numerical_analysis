{
 "cells": [
  {
   "cell_type": "code",
   "execution_count": null,
   "id": "242d0a4e",
   "metadata": {},
   "outputs": [],
   "source": [
    "import numpy as np"
   ]
  },
  {
   "cell_type": "markdown",
   "id": "93cc49d8",
   "metadata": {},
   "source": [
    "# Dim 1"
   ]
  },
  {
   "cell_type": "code",
   "execution_count": null,
   "id": "2af10726",
   "metadata": {},
   "outputs": [],
   "source": [
    "expl = np.array([False, True, True, False, False])"
   ]
  },
  {
   "cell_type": "code",
   "execution_count": null,
   "id": "1fa9a16f",
   "metadata": {},
   "outputs": [],
   "source": [
    "splits = []\n",
    "last_val = None\n",
    "for ind, val in enumerate(expl):\n",
    "    if val != last_val:\n",
    "        splits.append([ind])\n",
    "        last_val = val\n",
    "    else:\n",
    "        splits[-1].append(ind)\n",
    "splits"
   ]
  },
  {
   "cell_type": "code",
   "execution_count": null,
   "id": "b4aab692",
   "metadata": {},
   "outputs": [],
   "source": [
    "splits = []\n",
    "last_val = None\n",
    "for ind, val in enumerate(expl):\n",
    "    if val != last_val:\n",
    "        splits.append([ind])\n",
    "        last_val = val\n",
    "    elif val:\n",
    "        splits[-1].append(ind)\n",
    "    else:\n",
    "        splits.append([ind])\n",
    "splits"
   ]
  },
  {
   "cell_type": "code",
   "execution_count": null,
   "id": "af31c103",
   "metadata": {},
   "outputs": [],
   "source": [
    "lenghts = [[len(split)] * len(split) for split in splits]\n",
    "lenghts = [ele for sub in lenghts for ele in sub]\n",
    "lenghts"
   ]
  },
  {
   "cell_type": "code",
   "execution_count": null,
   "id": "adcdb1e0",
   "metadata": {},
   "outputs": [],
   "source": [
    "def add(bol, val):\n",
    "    return val if bol else 0\n",
    "\n",
    "from numpy import vectorize\n",
    "\n",
    "add_vecs = vectorize(add)\n",
    "\n",
    "def consecutive(expl):\n",
    "    splits = []\n",
    "    last_val = None\n",
    "    for ind, val in enumerate(expl):\n",
    "        if val != last_val:\n",
    "            splits.append([ind])\n",
    "            last_val = val\n",
    "        elif val:\n",
    "            splits[-1].append(ind)\n",
    "        else:\n",
    "            splits.append([ind])\n",
    "    lenghts = [[len(split)] * len(split) for split in splits]\n",
    "    lengths = [ele for sub in lenghts for ele in sub]\n",
    "    return add_vecs(expl, np.array(lengths))\n",
    "\n",
    "consecutive(expl)"
   ]
  },
  {
   "cell_type": "markdown",
   "id": "5fbb8576",
   "metadata": {},
   "source": [
    "# Dim 2"
   ]
  },
  {
   "cell_type": "code",
   "execution_count": null,
   "id": "833e7d31",
   "metadata": {},
   "outputs": [],
   "source": [
    "from itertools import product"
   ]
  },
  {
   "cell_type": "code",
   "execution_count": null,
   "id": "06842636",
   "metadata": {},
   "outputs": [],
   "source": [
    "expl = np.array([\n",
    "    [False, True, True, False, False],\n",
    "    [True, True, True, True, False],\n",
    "    [False, True, False, False, False],\n",
    "])\n",
    "expl"
   ]
  },
  {
   "cell_type": "code",
   "execution_count": null,
   "id": "d305cffd",
   "metadata": {},
   "outputs": [],
   "source": [
    "np.array([consecutive(row) for row in expl])"
   ]
  },
  {
   "cell_type": "code",
   "execution_count": null,
   "id": "1cb64269",
   "metadata": {},
   "outputs": [],
   "source": [
    "np.array([consecutive(col) for col in expl.T]).T"
   ]
  },
  {
   "cell_type": "code",
   "execution_count": null,
   "id": "7e259cd9",
   "metadata": {},
   "outputs": [],
   "source": [
    "n_rows, n_cols = expl.shape\n",
    "\n",
    "counts = {size: 0 for size in range(n_rows * n_cols + 1)}\n",
    "for left, right in product(range(n_cols + 1), repeat=2):\n",
    "    for bottom, top in product(range(n_rows + 1), repeat=2):\n",
    "        if left < right and bottom < top:\n",
    "            size = expl[bottom:top, left:right].size\n",
    "            counts[size] += 1\n",
    "counts"
   ]
  },
  {
   "cell_type": "code",
   "execution_count": null,
   "id": "74f111dc",
   "metadata": {},
   "outputs": [],
   "source": [
    "n_rows, n_cols = expl.shape\n",
    "\n",
    "rects = []\n",
    "areas = []\n",
    "for left, right in product(range(n_cols + 1), repeat=2):\n",
    "    for bottom, top in product(range(n_rows + 1), repeat=2):\n",
    "        if left < right and bottom < top:\n",
    "            sub = expl[bottom:top, left:right]\n",
    "            if (~sub).sum() == 0:\n",
    "                rects.append([(bottom, top), (left, right)])\n",
    "                areas.append(sub.size)\n",
    "\n",
    "areas_ = [len(list(product(range(*rect[0]), range(*rect[1])))) for rect in rects]\n",
    "assert areas_ == areas\n",
    "\n",
    "pts = product(range(n_rows), range(n_cols))\n",
    "max_areas = {pt: [] for pt in pts}\n",
    "for rect, area in zip(rects, areas):\n",
    "    pts_ = list(product(range(*rect[0]), range(*rect[1])))\n",
    "    for pt in pts_:\n",
    "        max_areas[pt].append(area)\n",
    "\n",
    "max_areas = {pt: (max(lst) if lst else 0) for pt, lst in max_areas.items()}\n",
    "np.array(list(max_areas.values())).reshape(n_rows, n_cols)"
   ]
  },
  {
   "cell_type": "code",
   "execution_count": null,
   "id": "c3196afe",
   "metadata": {},
   "outputs": [],
   "source": [
    "def max_areas(expl):\n",
    "    n_rows, n_cols = expl.shape\n",
    "\n",
    "    # list all rectangles of only ones\n",
    "    rects = []\n",
    "    for left, right in product(range(n_cols + 1), repeat=2):\n",
    "        for bottom, top in product(range(n_rows + 1), repeat=2):\n",
    "            if left < right and bottom < top:\n",
    "                sub = expl[bottom:top, left:right]\n",
    "                if (~sub).sum() == 0:\n",
    "                    rects.append([(bottom, top), (left, right)])\n",
    "\n",
    "    # list all points belonging to the previous rectangles\n",
    "    pts = product(range(n_rows), range(n_cols))\n",
    "    max_areas = {pt: [] for pt in pts}\n",
    "    for rect in rects:\n",
    "        pts_ = list(product(range(*rect[0]), range(*rect[1])))\n",
    "        area = len(pts_)\n",
    "        for pt in pts_:\n",
    "            max_areas[pt].append(area)\n",
    "\n",
    "    # take max areas\n",
    "    return (\n",
    "        np.array([\n",
    "            (max(lst) if lst else 0)\n",
    "            for lst in max_areas.values()])\n",
    "        .reshape(n_rows, n_cols)\n",
    "    )"
   ]
  },
  {
   "cell_type": "code",
   "execution_count": null,
   "id": "01931dbd",
   "metadata": {},
   "outputs": [],
   "source": [
    "expl"
   ]
  },
  {
   "cell_type": "code",
   "execution_count": null,
   "id": "2339a8f0",
   "metadata": {},
   "outputs": [],
   "source": [
    "max_areas(expl)"
   ]
  },
  {
   "cell_type": "code",
   "execution_count": null,
   "id": "c23a5f32",
   "metadata": {},
   "outputs": [],
   "source": [
    "def max_areas(expl):\n",
    "    dim_0, dim_1 = expl.shape\n",
    "\n",
    "    # list all rectangles of only ones\n",
    "    rects = []\n",
    "    for pair_0 in product(range(dim_0 + 1), repeat=2):\n",
    "        for pair_1 in product(range(dim_1 + 1), repeat=2):\n",
    "            if pair_0[0] < pair_0[1] and pair_1[0] < pair_1[1]:\n",
    "                sub = expl[slice(pair_0[0], pair_0[1]), slice(pair_1[0], pair_1[1])]\n",
    "                if (~sub).sum() == 0:\n",
    "                    rects.append([pair_0, pair_1])\n",
    "\n",
    "    # list all points belonging to the previous rectangles\n",
    "    pts = product(range(dim_0), range(dim_1))\n",
    "    max_areas = {pt: [] for pt in pts}\n",
    "    for pair_0, pair_1 in rects:\n",
    "        pts_ = list(product(range(*pair_0), range(*pair_1)))\n",
    "        area = len(pts_)\n",
    "        for pt in pts_:\n",
    "            max_areas[pt].append(area)\n",
    "\n",
    "    # take max areas\n",
    "    return (\n",
    "        np.array([\n",
    "            (max(lst) if lst else 0)\n",
    "            for lst in max_areas.values()])\n",
    "        .reshape(dim_0, dim_1)\n",
    "    )\n",
    "\n",
    "max_areas(expl)"
   ]
  },
  {
   "cell_type": "markdown",
   "id": "87e91630",
   "metadata": {},
   "source": [
    "# Dim n"
   ]
  },
  {
   "cell_type": "code",
   "execution_count": null,
   "id": "ad3ef414",
   "metadata": {},
   "outputs": [],
   "source": [
    "dims = expl.shape\n",
    "# n_dims = len(dims)\n",
    "# sizes = []\n",
    "\n",
    "prods = [product(range(dim + 1), repeat=2) for dim in dims]\n",
    "for pairs in product(*prods):\n",
    "    if all(pair[0] < pair[1] for pair in pairs):\n",
    "        slices = [np.arange(pair[0], pair[1]) for pair in pairs]\n",
    "        sub = expl[np.ix_(*slices)]\n",
    "        if (~sub).sum() == 0:\n",
    "            rects.append(pairs)\n",
    "\n",
    "pts = product(*[range(dim) for dim in dims])\n",
    "max_areas = {pt: [] for pt in pts}\n",
    "for pairs in rects:\n",
    "    pts_ = list(product(*[range(*pair) for pair in pairs]))\n",
    "    area = len(pts_)\n",
    "    for pt in pts_:\n",
    "        max_areas[pt].append(area)\n",
    "\n",
    "(\n",
    "        np.array([\n",
    "            (max(lst) if lst else 0)\n",
    "            for lst in max_areas.values()])\n",
    "        .reshape(dims)\n",
    "    )"
   ]
  },
  {
   "cell_type": "code",
   "execution_count": null,
   "id": "e9e6ccd0",
   "metadata": {},
   "outputs": [],
   "source": [
    "def max_volumes(expl):\n",
    "    dims = expl.shape\n",
    "    pts = product(*[range(dim) for dim in dims])\n",
    "    volumes = {pt: [] for pt in pts}\n",
    "\n",
    "    bounds = [product(range(dim + 1), repeat=2) for dim in dims]\n",
    "    all_pairs = [\n",
    "        pairs\n",
    "        for pairs in product(*bounds)\n",
    "        if all(pair[0] < pair[1] for pair in pairs)\n",
    "    ]\n",
    "    for pairs in all_pairs:\n",
    "        slices = [np.arange(*pair) for pair in pairs]\n",
    "        pts_in_slice = list(product(*slices))\n",
    "        sub = expl[np.ix_(*slices)]\n",
    "        assert (volume := sub.size) == len(pts_in_slice)\n",
    "        if (~sub).sum() == 0:\n",
    "            for pt_in_slice in pts_in_slice:\n",
    "                volumes[pt_in_slice].append(volume)\n",
    "\n",
    "    return np.array([\n",
    "        (max(vols) if vols else 0)\n",
    "        for vols in volumes.values()]).reshape(dims)"
   ]
  },
  {
   "cell_type": "code",
   "execution_count": null,
   "id": "2fab9897",
   "metadata": {},
   "outputs": [],
   "source": [
    "expl = np.array([False, True, True, False, False])\n",
    "max_volumes(expl)"
   ]
  },
  {
   "cell_type": "code",
   "execution_count": null,
   "id": "10f9c312",
   "metadata": {},
   "outputs": [],
   "source": [
    "expl = np.array([\n",
    "    [False, True, True, False, False],\n",
    "    [True, True, True, True, False],\n",
    "    [False, True, False, False, False],\n",
    "])\n",
    "max_volumes(expl)"
   ]
  },
  {
   "cell_type": "code",
   "execution_count": null,
   "id": "506a966e",
   "metadata": {},
   "outputs": [],
   "source": [
    "expl = np.random.rand(2, 5, 6) < 0.5\n",
    "expl"
   ]
  },
  {
   "cell_type": "code",
   "execution_count": null,
   "id": "979e5a7e",
   "metadata": {},
   "outputs": [],
   "source": [
    "%%time\n",
    "max_volumes(expl)"
   ]
  },
  {
   "cell_type": "code",
   "execution_count": null,
   "id": "8c8ef5ba",
   "metadata": {},
   "outputs": [],
   "source": [
    "from itertools import product\n",
    "from math import prod\n",
    "import numpy as np\n",
    "\n",
    "\n",
    "def update_inner_volumes(inner_volumes, expl, bounds):\n",
    "    slices = [np.arange(*bound) for bound in bounds]\n",
    "    sub = expl[np.ix_(*slices)]\n",
    "    if (~sub).sum() == 0:\n",
    "        inner_vol = prod((x - 1) for x in sub.shape)\n",
    "        for pt_ in product(*slices):\n",
    "            inner_volumes[pt_].append(inner_vol)\n",
    "\n",
    "\n",
    "def max_inner_volumes(expl):\n",
    "    dims = expl.shape\n",
    "    pts = product(*[range(dim) for dim in dims])\n",
    "    inner_volumes = {pt: [] for pt in pts}\n",
    "\n",
    "    lst_bounds = [product(range(dim + 1), repeat=2) for dim in dims]\n",
    "    _ = [\n",
    "        update_inner_volumes(inner_volumes, expl, bounds)\n",
    "        for bounds in product(*lst_bounds)\n",
    "        if all(bound[0] < bound[1] for bound in bounds)\n",
    "    ]\n",
    "\n",
    "    return np.array([\n",
    "        (max(vols) if vols else 0)\n",
    "        for vols in inner_volumes.values()]).reshape(dims)\n"
   ]
  },
  {
   "cell_type": "code",
   "execution_count": null,
   "id": "025e0e0e",
   "metadata": {},
   "outputs": [],
   "source": [
    "expl = np.array([\n",
    "    [False, True, True, False, False],\n",
    "    [True, True, True, True, False],\n",
    "    [False, True, False, False, False],\n",
    "])\n",
    "tes = max_inner_volumes(expl)\n",
    "tes"
   ]
  },
  {
   "cell_type": "code",
   "execution_count": null,
   "id": "ff4cfcbe",
   "metadata": {},
   "outputs": [],
   "source": [
    "from multiprocessing import Pool\n",
    "from itertools import product\n",
    "from math import prod\n",
    "import numpy as np\n",
    "\n",
    "\n",
    "def loop_through_slices(expl, compute_inner_volume, processes=None):\n",
    "    dims = expl.shape\n",
    "\n",
    "    lst_bounds = [product(range(dim + 1), repeat=2) for dim in dims]\n",
    "    pairs = [\n",
    "        bounds for bounds in product(*lst_bounds)\n",
    "        if all(bound[0] < bound[1] for bound in bounds)\n",
    "    ]\n",
    "    with Pool(processes) as pool:\n",
    "        lst = list(pool.imap_unordered(compute_inner_volume, pairs))\n",
    "    \n",
    "    return lst\n",
    "\n",
    "def pos_treat(expl, res):\n",
    "    curated = [ele for ele in res if (ele is not None and ele[1] > 0)]\n",
    "    dims = expl.shape\n",
    "    pts = product(*[range(dim) for dim in dims])\n",
    "    inner_volumes = {pt: [] for pt in pts}\n",
    "\n",
    "    for pts_, vol in curated:\n",
    "        for pt_ in pts_:\n",
    "            inner_volumes[pt_].append(vol)\n",
    "\n",
    "    return np.array([\n",
    "        (max(vols) if vols else 0)\n",
    "        for vols in inner_volumes.values()]).reshape(dims)"
   ]
  },
  {
   "cell_type": "code",
   "execution_count": null,
   "id": "4b5ada6c",
   "metadata": {},
   "outputs": [],
   "source": [
    "%%time\n",
    "\n",
    "expl = np.random.rand(20, 20, 20) < 0.8\n",
    "\n",
    "def compute_inner_volume(bounds):\n",
    "    res = None\n",
    "    slices = [np.arange(*bound) for bound in bounds]\n",
    "    sub = expl[np.ix_(*slices)]\n",
    "    if (~sub).sum() == 0:\n",
    "        inner_vol = prod((x - 1) for x in sub.shape)\n",
    "        res = (product(*slices), inner_vol)\n",
    "    return res"
   ]
  },
  {
   "cell_type": "code",
   "execution_count": null,
   "id": "09e7e61c",
   "metadata": {},
   "outputs": [],
   "source": [
    "%%time\n",
    "res = loop_through_slices(expl, compute_inner_volume)"
   ]
  },
  {
   "cell_type": "code",
   "execution_count": null,
   "id": "0a3f60df",
   "metadata": {},
   "outputs": [],
   "source": [
    "%%time\n",
    "volumes = pos_treat(expl, res)\n",
    "volumes.max()"
   ]
  }
 ],
 "metadata": {
  "kernelspec": {
   "display_name": "Python 3 (ipykernel)",
   "language": "python",
   "name": "python3"
  },
  "language_info": {
   "codemirror_mode": {
    "name": "ipython",
    "version": 3
   },
   "file_extension": ".py",
   "mimetype": "text/x-python",
   "name": "python",
   "nbconvert_exporter": "python",
   "pygments_lexer": "ipython3",
   "version": "3.10.6"
  }
 },
 "nbformat": 4,
 "nbformat_minor": 5
}
