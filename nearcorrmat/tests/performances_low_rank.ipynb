{
 "cells": [
  {
   "cell_type": "code",
   "execution_count": null,
   "id": "friendly-inventory",
   "metadata": {},
   "outputs": [],
   "source": [
    "import numpy as np\n",
    "import pandas as pd\n",
    "from nearcorrmat.functions import *"
   ]
  },
  {
   "cell_type": "code",
   "execution_count": null,
   "id": "decent-exclusive",
   "metadata": {},
   "outputs": [],
   "source": [
    "ERR_MAX = 1e-6\n",
    "ITE_MAX = 10000"
   ]
  },
  {
   "cell_type": "markdown",
   "id": "becoming-tourism",
   "metadata": {},
   "source": [
    "# Von Neumann alternative projection for the primal"
   ]
  },
  {
   "cell_type": "code",
   "execution_count": null,
   "id": "disabled-basis",
   "metadata": {},
   "outputs": [],
   "source": [
    "def update_neumann(version, prim_2):\n",
    "    if version == 0:\n",
    "        prim_1 = proj_cone(prim_2)\n",
    "        updated = (prim_1, proj_unit_diag(prim_1))\n",
    "    elif version == 1:\n",
    "        prim_1 = proj_unit_diag(prim_2)\n",
    "        updated = (prim_1, proj_cone(prim_1))\n",
    "    return updated"
   ]
  },
  {
   "cell_type": "code",
   "execution_count": null,
   "id": "incredible-rogers",
   "metadata": {},
   "outputs": [],
   "source": [
    "def proj_neumann(mat, version, err_max=1e-6, ite_max=10_000):\n",
    "    err = err_max + 1\n",
    "    ite = 0\n",
    "    prim_2 = mat.copy()\n",
    "    errors = list()\n",
    "    while err > err_max and ite < ite_max:\n",
    "        prim_1, prim_2 = update_neumann(version, prim_2)\n",
    "        err = norm(prim_1 - prim_2)\n",
    "        errors.append(err)\n",
    "        ite += 1\n",
    "    return 0.5 * (prim_1 + prim_2), errors"
   ]
  },
  {
   "cell_type": "code",
   "execution_count": null,
   "id": "lucky-greeting",
   "metadata": {},
   "outputs": [],
   "source": [
    "%%time\n",
    "projection, errors = proj_neumann(laplace, 0, ERR_MAX, ITE_MAX)\n",
    "pd.DataFrame(errors).apply(np.log).plot()"
   ]
  },
  {
   "cell_type": "code",
   "execution_count": null,
   "id": "pregnant-restoration",
   "metadata": {},
   "outputs": [],
   "source": [
    "%%time\n",
    "mat = gen_sym_psd(100, 10, 50)\n",
    "projection, errors = proj_neumann(mat, 0, ERR_MAX, ITE_MAX)\n",
    "log_errs = pd.DataFrame(errors).apply(np.log)\n",
    "log_errs.plot()\n",
    "axis = (log_errs.shift() / log_errs).plot()\n",
    "axis.set_ylim(0, 2)"
   ]
  },
  {
   "cell_type": "code",
   "execution_count": null,
   "id": "infinite-serve",
   "metadata": {},
   "outputs": [],
   "source": [
    "%%timeit\n",
    "mat = gen_sym_psd(100, None, 50)\n",
    "projection, errors = proj_neumann(mat, 0, ERR_MAX, ITE_MAX)"
   ]
  },
  {
   "cell_type": "code",
   "execution_count": null,
   "id": "coupled-cooling",
   "metadata": {},
   "outputs": [],
   "source": [
    "%%time\n",
    "projection, errors = proj_neumann(laplace, 1, ERR_MAX, ITE_MAX)\n",
    "pd.DataFrame(errors).apply(np.log).plot()"
   ]
  },
  {
   "cell_type": "code",
   "execution_count": null,
   "id": "educational-produce",
   "metadata": {},
   "outputs": [],
   "source": [
    "%%time\n",
    "mat = gen_sym_psd(100, 11, 50)\n",
    "projection, errors = proj_neumann(mat, 1, ERR_MAX, ITE_MAX)\n",
    "log_errs = pd.DataFrame(errors).apply(np.log)\n",
    "log_errs.plot()\n",
    "axis = (log_errs.shift() / log_errs).plot()\n",
    "axis.set_ylim(0, 2)"
   ]
  },
  {
   "cell_type": "code",
   "execution_count": null,
   "id": "sudden-digit",
   "metadata": {},
   "outputs": [],
   "source": [
    "%%timeit\n",
    "mat = gen_sym_psd(100, None, 50)\n",
    "projection, errors = proj_neumann(mat, 1, ERR_MAX, ITE_MAX)"
   ]
  },
  {
   "cell_type": "markdown",
   "id": "responsible-queens",
   "metadata": {},
   "source": [
    "# Classical Dykstra's projection algorithm for the primal does not converge"
   ]
  },
  {
   "cell_type": "code",
   "execution_count": null,
   "id": "severe-entrepreneur",
   "metadata": {},
   "outputs": [],
   "source": [
    "def update_dykstra(version, prim_2, dual):\n",
    "    if version == 0:\n",
    "        prim_1 = proj_cone(prim_2 - dual)\n",
    "        updated = (prim_1, proj_unit_diag(prim_1 + dual))\n",
    "    elif version == 1:\n",
    "        prim_1 = proj_unit_diag(prim_2 - dual)\n",
    "        updated = (prim_1, proj_cone(prim_1 + dual))\n",
    "    return updated"
   ]
  },
  {
   "cell_type": "code",
   "execution_count": null,
   "id": "entitled-cream",
   "metadata": {},
   "outputs": [],
   "source": [
    "def proj_dykstra(mat, version, err_max=1e-6, ite_max=10_000):\n",
    "    err = err_max + 1\n",
    "    ite = 0\n",
    "    prim_2 = mat.copy()\n",
    "    dual = np.zeros(mat.shape)\n",
    "    errors = list()\n",
    "    while err > err_max and ite < ite_max:\n",
    "        prim_1, prim_2_new = update_dykstra(version, prim_2, dual)\n",
    "        dual = dual + prim_1 - prim_2_new\n",
    "        err = norm(prim_1 - prim_2_new)\n",
    "        errors.append(err)\n",
    "\n",
    "        prim_2 = prim_2_new.copy()\n",
    "        ite += 1\n",
    "    return 0.5 * (prim_1 + prim_2), errors"
   ]
  },
  {
   "cell_type": "code",
   "execution_count": null,
   "id": "selective-fifth",
   "metadata": {},
   "outputs": [],
   "source": [
    "mat = gen_sym_psd(100, 12, 50)\n",
    "projection, errors = proj_dykstra(mat, 0, ERR_MAX, ITE_MAX)\n",
    "pd.DataFrame(errors).apply(np.log).plot()"
   ]
  },
  {
   "cell_type": "code",
   "execution_count": null,
   "id": "flexible-cruise",
   "metadata": {},
   "outputs": [],
   "source": [
    "mat = gen_sym_psd(100, None, 50)\n",
    "projection, errors = proj_dykstra(mat, 1, ERR_MAX, ITE_MAX)\n",
    "pd.DataFrame(errors).apply(np.log).plot()"
   ]
  },
  {
   "cell_type": "markdown",
   "id": "listed-amplifier",
   "metadata": {},
   "source": [
    "# Modified Dykstra's projection for the primal"
   ]
  },
  {
   "cell_type": "code",
   "execution_count": null,
   "id": "industrial-terminology",
   "metadata": {},
   "outputs": [],
   "source": [
    "%%time\n",
    "projection, errors = nearest_corr(\n",
    "    laplace, 'grad', ERR_MAX, ITE_MAX)\n",
    "pd.DataFrame(errors).apply(np.log).plot()"
   ]
  },
  {
   "cell_type": "code",
   "execution_count": null,
   "id": "biblical-checkout",
   "metadata": {},
   "outputs": [],
   "source": [
    "%%time\n",
    "mat = gen_sym_psd(100, 13, 50)\n",
    "projection, errors = nearest_corr(\n",
    "    mat, 'grad', ERR_MAX, ITE_MAX)\n",
    "log_errs = pd.DataFrame(errors).apply(np.log)\n",
    "log_errs.plot()\n",
    "axis = (log_errs.shift() / log_errs).plot()\n",
    "axis.set_ylim(0, 2)"
   ]
  },
  {
   "cell_type": "code",
   "execution_count": null,
   "id": "secondary-harassment",
   "metadata": {},
   "outputs": [],
   "source": [
    "%%timeit\n",
    "mat = gen_sym_psd(100, None, 50)\n",
    "projection, errors = nearest_corr(\n",
    "    mat, 'grad', ERR_MAX, ITE_MAX)"
   ]
  },
  {
   "cell_type": "markdown",
   "id": "equipped-contribution",
   "metadata": {},
   "source": [
    "# ADMM for the primal"
   ]
  },
  {
   "cell_type": "code",
   "execution_count": null,
   "id": "stuck-dealer",
   "metadata": {},
   "outputs": [],
   "source": [
    "%%time\n",
    "projection, errors = nearest_corr(\n",
    "    laplace, 'admm_v0', ERR_MAX, ITE_MAX)\n",
    "pd.DataFrame(errors).apply(np.log).plot()"
   ]
  },
  {
   "cell_type": "code",
   "execution_count": null,
   "id": "collaborative-lounge",
   "metadata": {},
   "outputs": [],
   "source": [
    "%%time\n",
    "mat = gen_sym_psd(100, 15, 50)\n",
    "projection, errors = nearest_corr(\n",
    "    mat, 'admm_v0', ERR_MAX, ITE_MAX)\n",
    "log_errs = pd.DataFrame(errors).apply(np.log)\n",
    "log_errs.plot()\n",
    "axis = (log_errs.shift() / log_errs).plot()\n",
    "axis.set_ylim(0, 2)"
   ]
  },
  {
   "cell_type": "code",
   "execution_count": null,
   "id": "motivated-exemption",
   "metadata": {},
   "outputs": [],
   "source": [
    "%%timeit\n",
    "mat = gen_sym_psd(100, None, 50)\n",
    "projection, errors = nearest_corr(\n",
    "    mat, 'admm_v0', ERR_MAX, ITE_MAX)"
   ]
  },
  {
   "cell_type": "code",
   "execution_count": null,
   "id": "interior-criterion",
   "metadata": {},
   "outputs": [],
   "source": [
    "%%time\n",
    "projection, errors = nearest_corr(\n",
    "    laplace, 'admm_v1', ERR_MAX, ITE_MAX)\n",
    "pd.DataFrame(errors).apply(np.log).plot()"
   ]
  },
  {
   "cell_type": "code",
   "execution_count": null,
   "id": "nervous-class",
   "metadata": {},
   "outputs": [],
   "source": [
    "%%time\n",
    "mat = gen_sym_psd(100, 16, 50)\n",
    "projection, errors = nearest_corr(\n",
    "    mat, 'admm_v1', ERR_MAX, ITE_MAX)\n",
    "log_errs = pd.DataFrame(errors).apply(np.log)\n",
    "log_errs.plot()\n",
    "axis = (log_errs.shift() / log_errs).plot()\n",
    "axis.set_ylim(0, 2)"
   ]
  },
  {
   "cell_type": "code",
   "execution_count": null,
   "id": "exciting-advisory",
   "metadata": {},
   "outputs": [],
   "source": [
    "%%timeit\n",
    "mat = gen_sym_psd(100, None, 50)\n",
    "projection, errors = nearest_corr(\n",
    "    mat, 'admm_v1', ERR_MAX, ITE_MAX)"
   ]
  },
  {
   "cell_type": "code",
   "execution_count": null,
   "id": "timely-bermuda",
   "metadata": {},
   "outputs": [],
   "source": []
  },
  {
   "cell_type": "code",
   "execution_count": null,
   "id": "distributed-kernel",
   "metadata": {},
   "outputs": [],
   "source": [
    "ITE_MAX = 1000"
   ]
  },
  {
   "cell_type": "markdown",
   "id": "minor-profile",
   "metadata": {},
   "source": [
    "# BFGS for the dual"
   ]
  },
  {
   "cell_type": "code",
   "execution_count": null,
   "id": "universal-thompson",
   "metadata": {},
   "outputs": [],
   "source": [
    "%%time\n",
    "projection, errors = nearest_corr(laplace, 'bfgs', ERR_MAX, ITE_MAX)\n",
    "pd.DataFrame(errors).apply(np.log).plot()"
   ]
  },
  {
   "cell_type": "code",
   "execution_count": null,
   "id": "fiscal-neighborhood",
   "metadata": {},
   "outputs": [],
   "source": [
    "%%time\n",
    "mat = gen_sym_psd(100, 17, 50)\n",
    "projection, errors = nearest_corr(mat, 'bfgs', ERR_MAX, ITE_MAX)\n",
    "log_errs = pd.DataFrame(errors).apply(np.log)\n",
    "log_errs.plot()\n",
    "axis = (log_errs.shift() / log_errs).plot()\n",
    "axis.set_ylim(0, 2)"
   ]
  },
  {
   "cell_type": "code",
   "execution_count": null,
   "id": "expected-viking",
   "metadata": {},
   "outputs": [],
   "source": [
    "%%timeit\n",
    "mat = gen_sym_psd(100, None, 50)\n",
    "projection, errors = nearest_corr(mat, 'bfgs', ERR_MAX, ITE_MAX)"
   ]
  },
  {
   "cell_type": "markdown",
   "id": "military-dictionary",
   "metadata": {},
   "source": [
    "# L-BFGS for the dual"
   ]
  },
  {
   "cell_type": "code",
   "execution_count": null,
   "id": "nutritional-withdrawal",
   "metadata": {},
   "outputs": [],
   "source": [
    "%%time\n",
    "projection, errors = nearest_corr(\n",
    "    laplace, 'l_bfgs', ERR_MAX, ITE_MAX, memory=10)\n",
    "pd.DataFrame(errors).apply(np.log).plot()"
   ]
  },
  {
   "cell_type": "code",
   "execution_count": null,
   "id": "dimensional-witch",
   "metadata": {},
   "outputs": [],
   "source": [
    "%%time\n",
    "mat = gen_sym_psd(100, 18, 50)\n",
    "projection, errors = nearest_corr(\n",
    "    mat, 'l_bfgs', ERR_MAX, ITE_MAX, memory=10)\n",
    "log_errs = pd.DataFrame(errors).apply(np.log)\n",
    "log_errs.plot()\n",
    "axis = (log_errs.shift() / log_errs).plot()\n",
    "axis.set_ylim(0, 2)"
   ]
  },
  {
   "cell_type": "code",
   "execution_count": null,
   "id": "detected-progress",
   "metadata": {},
   "outputs": [],
   "source": [
    "%%timeit\n",
    "mat = gen_sym_psd(100, None, 50)\n",
    "projection, errors = nearest_corr(\n",
    "    mat, 'l_bfgs', ERR_MAX, ITE_MAX, memory=10)"
   ]
  },
  {
   "cell_type": "markdown",
   "id": "operational-implement",
   "metadata": {},
   "source": [
    "# Newton for the dual"
   ]
  },
  {
   "cell_type": "code",
   "execution_count": null,
   "id": "hydraulic-throw",
   "metadata": {},
   "outputs": [],
   "source": [
    "%%time\n",
    "projection, errors = nearest_corr(laplace, 'newton', ERR_MAX , ITE_MAX)\n",
    "pd.DataFrame(errors).apply(np.log).plot()"
   ]
  },
  {
   "cell_type": "code",
   "execution_count": null,
   "id": "binary-saturday",
   "metadata": {},
   "outputs": [],
   "source": [
    "%%time\n",
    "mat = gen_sym_psd(100, 19, 50)\n",
    "projection, errors = nearest_corr(mat, 'newton', ERR_MAX, ITE_MAX)\n",
    "log_errs = pd.DataFrame(errors).apply(np.log)\n",
    "log_errs.plot()\n",
    "axis = (log_errs.shift() / log_errs).plot()\n",
    "axis.set_ylim(0, 2)"
   ]
  },
  {
   "cell_type": "code",
   "execution_count": null,
   "id": "stable-semiconductor",
   "metadata": {},
   "outputs": [],
   "source": [
    "%%timeit\n",
    "mat = gen_sym_psd(100, None, 50)\n",
    "projection, errors = nearest_corr(mat, 'newton', ERR_MAX, ITE_MAX)"
   ]
  }
 ],
 "metadata": {
  "kernelspec": {
   "display_name": "Python 3",
   "language": "python",
   "name": "python3"
  },
  "language_info": {
   "codemirror_mode": {
    "name": "ipython",
    "version": 3
   },
   "file_extension": ".py",
   "mimetype": "text/x-python",
   "name": "python",
   "nbconvert_exporter": "python",
   "pygments_lexer": "ipython3",
   "version": "3.9.5"
  }
 },
 "nbformat": 4,
 "nbformat_minor": 5
}
