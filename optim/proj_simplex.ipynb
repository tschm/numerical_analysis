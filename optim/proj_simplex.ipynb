{
 "cells": [
  {
   "cell_type": "code",
   "execution_count": null,
   "id": "brutal-institution",
   "metadata": {},
   "outputs": [],
   "source": [
    "from heapq import heapify, heappop\n",
    "from collections import deque\n",
    "from timeit import repeat\n",
    "import numpy as np\n",
    "import pandas as pd"
   ]
  },
  {
   "cell_type": "code",
   "execution_count": null,
   "id": "immune-carnival",
   "metadata": {},
   "outputs": [],
   "source": [
    "def proj_simplex(vec, rad=1):\n",
    "    ''' Held, M., Wolfe, P. and Crowder, H.P., 1974.\n",
    "    Validation of subgradient optimization.\n",
    "    Mathematical programming, 6(1), pp.62-88. '''\n",
    "    assert all((isinstance(vec, np.ndarray), vec.ndim == 1, len(vec) >= 1)), (\n",
    "        'imput must be a 1-d non empty numpy array')\n",
    "    sorted_vec = np.sort(vec)[::-1]\n",
    "    cummeans = 1 / np.arange(1, len(vec) + 1) * (np.cumsum(sorted_vec) - rad)\n",
    "    rho = max(np.where(sorted_vec > cummeans)[0])\n",
    "    return np.maximum(vec - cummeans[rho], 0)\n",
    "\n",
    "def proj_simplex_max_heap(vec, rad=1):\n",
    "    ''' Van Den Berg, E. and Friedlander, M.P., 2009.\n",
    "    Probing the Pareto frontier for basis pursuit solutions.\n",
    "    SIAM Journal on Scientific Computing, 31(2), pp.890-912. '''\n",
    "    assert all((isinstance(vec, np.ndarray), vec.ndim == 1, len(vec) >= 1)), (\n",
    "        'imput must be a 1-d non empty numpy array')\n",
    "    if len(vec) == 1:\n",
    "        proj = np.array([1])\n",
    "    else:\n",
    "        largest = deque([])\n",
    "        opp_vec = [-ele for ele in vec]  # heapq supports MIN-heap...\n",
    "        heapify(opp_vec)\n",
    "        crit = -1\n",
    "        while crit < 0:\n",
    "            root = heappop(opp_vec)\n",
    "            largest.append(-root)\n",
    "            # TODO: running computation of the mean\n",
    "            crit = (sum(largest) - rad) / len(largest) + root\n",
    "        largest.pop()\n",
    "        mean = (sum(largest) - rad) / len(largest)\n",
    "        proj = np.maximum(vec - mean, 0)\n",
    "    return proj\n",
    "\n",
    "def proj_simplex_quick(vec, rad=1):\n",
    "    ''' Kiwiel, K.C., 2008.\n",
    "    Breakpoint searching algorithms for the continuous quadratic knapsack problem.\n",
    "    Mathematical Programming, 112(2), pp.473-491.'''\n",
    "    assert all((isinstance(vec, np.ndarray), vec.ndim == 1, len(vec) >= 1)), (\n",
    "        'imput must be a 1-d non empty numpy array')\n",
    "    vals = vec.copy()\n",
    "    length = 0\n",
    "    som = -rad\n",
    "    while vals.size > 0:\n",
    "        val = np.random.choice(vals)  # choose the median...\n",
    "        high = vals[vals > val]\n",
    "        low = vals[vals < val]\n",
    "        n_eq = len(vals) - len(high) - len(low)\n",
    "        som_ = som + n_eq * val + high.sum()\n",
    "        length_ = length + n_eq + len(high)\n",
    "        if som_ / length_ < val:\n",
    "            vals = low.copy()\n",
    "            length = length_\n",
    "            som = som_\n",
    "        else:\n",
    "            vals = high.copy()\n",
    "    return np.maximum(vec - som / length, 0)\n",
    "\n",
    "def proj_simplex_active_set(vec, rad=1):\n",
    "    ''' Michelot, C., 1986.\n",
    "    A finite algorithm for finding the projection of a point onto the canonical simplex of R^n.\n",
    "    Journal of Optimization Theory and Applications, 50(1), pp.195-200. '''\n",
    "    assert all((isinstance(vec, np.ndarray), vec.ndim == 1, len(vec) >= 1)), (\n",
    "        'imput must be a 1-d non empty numpy array')\n",
    "    vals = vec.copy()\n",
    "    length_old = len(vals)\n",
    "    mean = (sum(vals) - rad) / length_old\n",
    "    lengths_diff = 1\n",
    "    while lengths_diff >= 1:\n",
    "        vals = vals[vals > mean]\n",
    "        length = len(vals)\n",
    "        mean = (sum(vals) - rad) / length\n",
    "        lengths_diff = abs(length - length_old)\n",
    "        length_old = length\n",
    "    return np.maximum(vec - mean, 0)\n",
    "\n",
    "def proj_simplex_condat(vec, rad=1):\n",
    "    ''' Condat, L., 2016.\n",
    "    Fast projection onto the Simplex and the l1 Ball.\n",
    "    Mathematical Programming, 158(1), pp.575-585. '''\n",
    "    assert all((isinstance(vec, np.ndarray), vec.ndim == 1, len(vec) >= 1)), (\n",
    "        'imput must be a 1-d non empty numpy array')\n",
    "    largest = [vec[0]]\n",
    "    reservoir = []\n",
    "    mean = largest[0] - rad\n",
    "    for val in vec[1:]:\n",
    "        if val > mean:\n",
    "            mean = mean + (val - mean) / (len(largest) + 1)\n",
    "            if mean > val - rad:\n",
    "                largest.append(val)\n",
    "            else:\n",
    "                reservoir.extend(largest)\n",
    "                largest = [val]\n",
    "                mean = val - rad\n",
    "    if reservoir:\n",
    "        for val in reservoir:\n",
    "            if val > mean:\n",
    "                largest.append(val)\n",
    "                mean = mean + (val - mean) / len(largest)\n",
    "    length_old = len(largest)\n",
    "    lengths_diff = 1\n",
    "    while lengths_diff >= 1:\n",
    "        for ind, val in enumerate(largest):\n",
    "            if val <= mean:\n",
    "                del largest[ind]\n",
    "                mean = mean + (mean - val) / len(largest)\n",
    "        length = len(largest)\n",
    "        lengths_diff = abs(length - length_old)\n",
    "        length_old = length\n",
    "    return np.maximum(vec - mean, 0)\n",
    "\n",
    "projs = [\n",
    "    proj_simplex,\n",
    "#     proj_simplex_max_heap,\n",
    "    proj_simplex_quick,\n",
    "    proj_simplex_active_set,\n",
    "    proj_simplex_condat]"
   ]
  },
  {
   "cell_type": "markdown",
   "id": "august-peoples",
   "metadata": {},
   "source": [
    "# Correctness"
   ]
  },
  {
   "cell_type": "code",
   "execution_count": null,
   "id": "sharing-karma",
   "metadata": {},
   "outputs": [],
   "source": [
    "metric = lambda x: np.linalg.norm(x, float('inf'))\n",
    "DIM = 10000\n",
    "RAD = 2\n",
    "imp = np.random.randn(DIM)\n",
    "ref = proj_simplex(imp, RAD)\n",
    "\n",
    "[\n",
    "    [(ref < 0).sum(), ref.sum()],\n",
    "    [metric(ref - proj(imp, RAD)) for proj in projs[1:]]\n",
    "]"
   ]
  },
  {
   "cell_type": "markdown",
   "id": "continental-wells",
   "metadata": {},
   "source": [
    "# Performances"
   ]
  },
  {
   "cell_type": "code",
   "execution_count": null,
   "id": "floating-tomato",
   "metadata": {},
   "outputs": [],
   "source": [
    "%%timeit\n",
    "proj_simplex(np.random.randn(DIM), RAD)"
   ]
  },
  {
   "cell_type": "code",
   "execution_count": null,
   "id": "available-picture",
   "metadata": {},
   "outputs": [],
   "source": [
    "%%timeit\n",
    "proj_simplex_max_heap(np.random.randn(DIM), RAD)"
   ]
  },
  {
   "cell_type": "code",
   "execution_count": null,
   "id": "driven-progressive",
   "metadata": {},
   "outputs": [],
   "source": [
    "%%timeit\n",
    "proj_simplex_quick(np.random.randn(DIM), RAD)"
   ]
  },
  {
   "cell_type": "code",
   "execution_count": null,
   "id": "super-fraud",
   "metadata": {},
   "outputs": [],
   "source": [
    "%%timeit\n",
    "proj_simplex_active_set(np.random.randn(DIM), RAD)"
   ]
  },
  {
   "cell_type": "code",
   "execution_count": null,
   "id": "fuzzy-division",
   "metadata": {},
   "outputs": [],
   "source": [
    "%%timeit\n",
    "proj_simplex_condat(np.random.randn(DIM), RAD)"
   ]
  },
  {
   "cell_type": "code",
   "execution_count": null,
   "id": "sophisticated-senator",
   "metadata": {},
   "outputs": [],
   "source": [
    "def gen_expes_dims(exp_start, exp_stop, n_dims, n_runs):\n",
    "    dims = np.logspace(exp_start, exp_stop, n_dims).astype(int)\n",
    "    return {\n",
    "        dim: [np.random.randn(dim) for _ in range(n_runs)]\n",
    "        for dim in dims}\n",
    "\n",
    "def partial_stack(frame, cols_to_stack, names):\n",
    "    assert set(cols_to_stack) <= set(frame)\n",
    "    assert isinstance(names, list) and len(names) == 2\n",
    "    cols = frame.columns\n",
    "    index = list(cols[~cols.isin(cols_to_stack)])\n",
    "    frame = frame.set_index(index).stack().reset_index()\n",
    "    frame.columns = index + names\n",
    "    return frame\n",
    "\n",
    "def time_one_func(func, expes, n_repeats=5, n_execs=10):\n",
    "    times = {\n",
    "        dim: [\n",
    "            repeat(lambda: func(imput), number=n_execs, repeat=n_repeats)\n",
    "            for imput in imputs]\n",
    "        for dim, imputs in expes.items()}\n",
    "    times_frame = pd.concat([\n",
    "        pd.DataFrame(times_).stack().reset_index(drop=True).rename(dim)\n",
    "        for dim, times_ in times.items()], axis=1)\n",
    "    return times_frame.describe()"
   ]
  },
  {
   "cell_type": "code",
   "execution_count": null,
   "id": "different-lindsay",
   "metadata": {},
   "outputs": [],
   "source": [
    "exps = gen_expes_dims(0, 6, 15, 10)\n",
    "timings = {\n",
    "    proj.__name__: time_one_func(proj, exps.copy())\n",
    "    for proj in projs}\n",
    "\n",
    "median_times = pd.DataFrame({\n",
    "    name: times.loc['50%', :] for name, times in timings.items()})\n",
    "median_times.plot(figsize=(20, 15), grid=True)"
   ]
  }
 ],
 "metadata": {
  "kernelspec": {
   "display_name": "Python 3",
   "language": "python",
   "name": "python3"
  },
  "language_info": {
   "codemirror_mode": {
    "name": "ipython",
    "version": 3
   },
   "file_extension": ".py",
   "mimetype": "text/x-python",
   "name": "python",
   "nbconvert_exporter": "python",
   "pygments_lexer": "ipython3",
   "version": "3.9.9"
  }
 },
 "nbformat": 4,
 "nbformat_minor": 5
}
