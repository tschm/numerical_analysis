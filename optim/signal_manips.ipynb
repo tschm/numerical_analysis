{
 "cells": [
  {
   "cell_type": "code",
   "execution_count": null,
   "id": "reduced-reality",
   "metadata": {},
   "outputs": [],
   "source": [
    "import numpy as np\n",
    "import pandas as pd\n",
    "from sklearn.preprocessing import StandardScaler\n",
    "\n",
    "dates = pd.bdate_range('2002', '2020')\n",
    "n_dates = len(dates)\n",
    "xs_len = 4000"
   ]
  },
  {
   "cell_type": "code",
   "execution_count": null,
   "id": "western-judgment",
   "metadata": {},
   "outputs": [],
   "source": [
    "membership = pd.DataFrame(\n",
    "    data=np.random.rand(n_dates, xs_len) > 0.75,\n",
    "    index=dates)\n",
    "membership.sum(axis=1).plot()\n",
    "\n",
    "weights = pd.DataFrame(\n",
    "    data=np.random.randn(n_dates, xs_len),\n",
    "    index=dates)\n",
    "weights = weights.where(membership)\n",
    "weights.notna().sum(axis=1).plot()"
   ]
  },
  {
   "cell_type": "code",
   "execution_count": null,
   "id": "parallel-russian",
   "metadata": {},
   "outputs": [],
   "source": [
    "%%time\n",
    "\n",
    "def standard_scaler(series):\n",
    "    scaler = StandardScaler()\n",
    "    vals = series.values.reshape(-1, 1)\n",
    "    transformed = scaler.fit_transform(vals)\n",
    "    return pd.Series(transformed.reshape(-1))\n",
    "\n",
    "weights.apply(standard_scaler, axis=1).agg(['min', 'max', 'mean'], axis=1).plot()"
   ]
  },
  {
   "cell_type": "code",
   "execution_count": null,
   "id": "through-nerve",
   "metadata": {},
   "outputs": [],
   "source": [
    "%%time\n",
    "\n",
    "def ranks_scaler(weights_frame):\n",
    "    ranks = weights_frame.rank(axis=1)\n",
    "    means = ranks.mean(axis=1)\n",
    "    beta = (\n",
    "        ranks\n",
    "        .agg(['min', 'max'], axis=1)\n",
    "        .sub(means, axis=0)\n",
    "        .abs()\n",
    "        .max(axis=1)\n",
    "        .rdiv(1))\n",
    "    alpha = -beta * means\n",
    "    return ranks.mul(beta, axis=0).add(alpha, axis=0)\n",
    "\n",
    "ranks_scaler(weights).agg(['min', 'max', 'mean'], axis=1).plot()"
   ]
  },
  {
   "cell_type": "code",
   "execution_count": null,
   "id": "close-agenda",
   "metadata": {},
   "outputs": [],
   "source": [
    "weights = weights.apply(standard_scaler, axis=1)\n",
    "weights.notna().sum(axis=1).plot()"
   ]
  },
  {
   "cell_type": "code",
   "execution_count": null,
   "id": "original-advisory",
   "metadata": {},
   "outputs": [],
   "source": [
    "betas = pd.DataFrame(\n",
    "    data=np.random.randn(n_dates, xs_len),\n",
    "    index=dates)"
   ]
  },
  {
   "cell_type": "code",
   "execution_count": null,
   "id": "alternative-attempt",
   "metadata": {},
   "outputs": [],
   "source": [
    "%%time\n",
    "\n",
    "def proj_hyperplane(weights, betas):\n",
    "    sqr_norm = np.dot(betas, betas)\n",
    "    assert sqr_norm > 1e-6, 'betas is too close to 0'\n",
    "    signed_dist = np.dot(weights, betas)\n",
    "    return weights - signed_dist / sqr_norm * betas\n",
    "\n",
    "# betas = np.random.randn(4)\n",
    "# weights = np.abs(np.random.randn(4))\n",
    "# weights /= sum(weights)\n",
    "# proj = proj_hyperplane(weights, betas)\n",
    "# print(np.dot(proj, betas))\n",
    "\n",
    "neutralized = (\n",
    "    weights.fillna(0).T\n",
    "    .combine(\n",
    "        betas.where(membership).fillna(0).T,\n",
    "        proj_hyperplane)\n",
    "    .T.where(membership))\n",
    "neutralized.notna().sum(axis=1).plot()"
   ]
  },
  {
   "cell_type": "code",
   "execution_count": null,
   "id": "creative-burlington",
   "metadata": {},
   "outputs": [],
   "source": [
    "neutralized.mul(betas).sum(axis=1).plot()"
   ]
  },
  {
   "cell_type": "code",
   "execution_count": null,
   "id": "current-bidding",
   "metadata": {},
   "outputs": [],
   "source": [
    "neutralized.agg(['min', 'max', 'mean'], axis=1).plot()"
   ]
  }
 ],
 "metadata": {
  "kernelspec": {
   "display_name": "Python 3",
   "language": "python",
   "name": "python3"
  },
  "language_info": {
   "codemirror_mode": {
    "name": "ipython",
    "version": 3
   },
   "file_extension": ".py",
   "mimetype": "text/x-python",
   "name": "python",
   "nbconvert_exporter": "python",
   "pygments_lexer": "ipython3",
   "version": "3.9.9"
  }
 },
 "nbformat": 4,
 "nbformat_minor": 5
}
