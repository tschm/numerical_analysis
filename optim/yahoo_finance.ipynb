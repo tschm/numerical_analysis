{
 "cells": [
  {
   "cell_type": "code",
   "execution_count": null,
   "id": "designing-philosophy",
   "metadata": {},
   "outputs": [],
   "source": [
    "import yfinance as yf\n",
    "import pandas as pd"
   ]
  },
  {
   "cell_type": "code",
   "execution_count": null,
   "id": "iraqi-excuse",
   "metadata": {},
   "outputs": [],
   "source": [
    "def load_close_prices(tickers):\n",
    "#     prices are not adjusted for splits or dividends...\n",
    "    history = {\n",
    "        tic: yf.Ticker(tic).history(period='max')\n",
    "        for tic in tickers}\n",
    "    indexes = [set(data.index) for data in history.values()]\n",
    "    index = sorted(set.union(*indexes))\n",
    "    closes = pd.concat([\n",
    "        history[tic].reindex(index=index)['Close'].ffill()\n",
    "        for tic in tickers], axis=1)\n",
    "    closes.columns = tickers\n",
    "    stacked = closes.stack().reset_index()\n",
    "    stacked.columns = ['date', 'ticker', 'price']\n",
    "#     stacked.sort_values('date', inplace=True)\n",
    "    return stacked"
   ]
  },
  {
   "cell_type": "code",
   "execution_count": null,
   "id": "excited-programmer",
   "metadata": {},
   "outputs": [],
   "source": [
    "def compute_pnl(frame):\n",
    "    frame['market_value'] = frame['price'] * frame['position']\n",
    "    frame['cash'] = -frame['position'].diff() * frame['price']\n",
    "    first_date = min(frame.index)\n",
    "    frame.loc[first_date, 'cash'] = -frame.loc[first_date, 'market_value']\n",
    "    frame['cash'] = frame['cash'].cumsum()\n",
    "    frame['nav'] = frame['market_value'] + frame['cash']\n",
    "    return frame"
   ]
  },
  {
   "cell_type": "code",
   "execution_count": null,
   "id": "enabling-startup",
   "metadata": {},
   "outputs": [],
   "source": [
    "%%time\n",
    "tickers = ['msft', 'aapl', 'goog']\n",
    "closes = load_close_prices(tickers)\n",
    "closes"
   ]
  },
  {
   "cell_type": "code",
   "execution_count": null,
   "id": "twenty-folder",
   "metadata": {},
   "outputs": [],
   "source": [
    "closes['position'] = 2\n",
    "closes.iloc[:len(closes) // 2]['position'] = 1"
   ]
  },
  {
   "cell_type": "code",
   "execution_count": null,
   "id": "built-bracket",
   "metadata": {},
   "outputs": [],
   "source": [
    "navs = (\n",
    "    closes\n",
    "    .set_index('date')\n",
    "    .groupby('ticker')\n",
    "    .apply(compute_pnl)\n",
    "    .reset_index())\n",
    "ptfo = navs.groupby('date').sum()\n",
    "ptfo['nav'].plot()"
   ]
  },
  {
   "cell_type": "code",
   "execution_count": null,
   "id": "respective-playing",
   "metadata": {},
   "outputs": [],
   "source": [
    "navs[\n",
    "    (navs['ticker'] == 'aapl') & (navs['position'].diff() != 0)]"
   ]
  },
  {
   "cell_type": "code",
   "execution_count": null,
   "id": "palestinian-confidence",
   "metadata": {},
   "outputs": [],
   "source": [
    "navs[(navs['ticker'] == 'aapl') & (navs['date'] >= '2006-04-20')]"
   ]
  },
  {
   "cell_type": "code",
   "execution_count": null,
   "id": "viral-equivalent",
   "metadata": {},
   "outputs": [],
   "source": []
  }
 ],
 "metadata": {
  "kernelspec": {
   "display_name": "Python 3",
   "language": "python",
   "name": "python3"
  },
  "language_info": {
   "codemirror_mode": {
    "name": "ipython",
    "version": 3
   },
   "file_extension": ".py",
   "mimetype": "text/x-python",
   "name": "python",
   "nbconvert_exporter": "python",
   "pygments_lexer": "ipython3",
   "version": "3.9.9"
  }
 },
 "nbformat": 4,
 "nbformat_minor": 5
}
