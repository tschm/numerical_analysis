{
 "cells": [
  {
   "cell_type": "code",
   "execution_count": null,
   "id": "packed-regression",
   "metadata": {},
   "outputs": [],
   "source": [
    "import numpy as np\n",
    "import pandas as pd\n",
    "import matplotlib.pyplot as plt"
   ]
  },
  {
   "cell_type": "code",
   "execution_count": null,
   "id": "collect-prior",
   "metadata": {},
   "outputs": [],
   "source": [
    "dates = pd.bdate_range('2000', '2020')\n",
    "n_dates = len(dates)\n",
    "xs_len = 4000\n",
    "IND = 150\n",
    "\n",
    "def plot_desc(weights):\n",
    "    descs = weights.T.describe().T\n",
    "    for cols in [['count'], ['mean', 'std'], ['min', '25%', '50%', '75%', 'max']]:\n",
    "        plt.figure()\n",
    "        descs.loc[:, cols].plot()\n",
    "        plt.show()"
   ]
  },
  {
   "cell_type": "code",
   "execution_count": null,
   "id": "changing-jerusalem",
   "metadata": {},
   "outputs": [],
   "source": [
    "membership = pd.DataFrame(\n",
    "    data=np.random.rand(n_dates, xs_len) > 0.75,\n",
    "    index=dates)\n",
    "membership.sum(axis=1).plot()\n",
    "\n",
    "weights = pd.DataFrame(\n",
    "    data=np.random.randn(n_dates, xs_len),\n",
    "    index=dates).where(membership)\n",
    "weights.count(axis=1).plot()\n",
    "\n",
    "betas = pd.DataFrame(\n",
    "    data=np.random.randn(n_dates, xs_len),\n",
    "    index=dates).where(membership)\n",
    "betas.count(axis=1).plot()"
   ]
  },
  {
   "cell_type": "code",
   "execution_count": null,
   "id": "therapeutic-fight",
   "metadata": {},
   "outputs": [],
   "source": [
    "plot_desc(weights)"
   ]
  },
  {
   "cell_type": "code",
   "execution_count": null,
   "id": "sufficient-madagascar",
   "metadata": {},
   "outputs": [],
   "source": [
    "%%time\n",
    "\n",
    "def standard_scaler(weights):\n",
    "    means = weights.mean(axis=1)\n",
    "    stds = weights.std(axis=1)\n",
    "    return weights.sub(means, axis=0).div(stds, axis=0)\n",
    "\n",
    "standardized = standard_scaler(weights)"
   ]
  },
  {
   "cell_type": "code",
   "execution_count": null,
   "id": "healthy-edition",
   "metadata": {},
   "outputs": [],
   "source": [
    "plot_desc(standardized)"
   ]
  },
  {
   "cell_type": "code",
   "execution_count": null,
   "id": "assumed-convenience",
   "metadata": {},
   "outputs": [],
   "source": [
    "weights.iloc[IND].hist(bins=100, alpha=0.3)\n",
    "standardized.iloc[IND].hist(bins=100)"
   ]
  },
  {
   "cell_type": "code",
   "execution_count": null,
   "id": "herbal-merchant",
   "metadata": {},
   "outputs": [],
   "source": [
    "%%time\n",
    "\n",
    "def uniform_ranks_scaler(weights):\n",
    "    ranks = weights.rank(axis=1)\n",
    "    means = ranks.mean(axis=1)\n",
    "    beta = (\n",
    "        ranks\n",
    "        .agg(['min', 'max'], axis=1)\n",
    "        .sub(means, axis=0)\n",
    "        .abs()\n",
    "        .max(axis=1)\n",
    "        .rdiv(1))\n",
    "    return ranks.mul(beta, axis=0).add(-beta * means, axis=0)\n",
    "\n",
    "uniformized = uniform_ranks_scaler(weights)"
   ]
  },
  {
   "cell_type": "code",
   "execution_count": null,
   "id": "scenic-angola",
   "metadata": {},
   "outputs": [],
   "source": [
    "plot_desc(uniformized)"
   ]
  },
  {
   "cell_type": "code",
   "execution_count": null,
   "id": "martial-diversity",
   "metadata": {},
   "outputs": [],
   "source": [
    "weights.iloc[IND].hist(bins=100, alpha=0.3)\n",
    "uniformized.iloc[IND].hist(bins=100)"
   ]
  },
  {
   "cell_type": "code",
   "execution_count": null,
   "id": "sonic-incentive",
   "metadata": {},
   "outputs": [],
   "source": [
    "%%time\n",
    "\n",
    "def proj_hyperplane(weights, betas):\n",
    "    sqr_norm = np.dot(betas, betas)\n",
    "    assert sqr_norm > 1e-6, 'betas is too close to 0'\n",
    "    signed_dist = np.dot(weights, betas)\n",
    "    return weights - signed_dist / sqr_norm * betas\n",
    "\n",
    "def neutralize(weights, betas, membership):\n",
    "    weights_t = weights.where(membership).fillna(0).T\n",
    "    betas_t = betas.where(membership).fillna(0).T\n",
    "    return (\n",
    "        weights_t.combine(betas_t, proj_hyperplane)\n",
    "        .T.where(membership))\n",
    "\n",
    "neutralized_standardized = neutralize(standardized, betas, membership)\n",
    "neutralized_uniformized = neutralize(uniformized, betas, membership)"
   ]
  },
  {
   "cell_type": "code",
   "execution_count": null,
   "id": "appointed-california",
   "metadata": {},
   "outputs": [],
   "source": [
    "standardized.mul(betas).sum(axis=1).plot()\n",
    "neutralized_standardized.mul(betas).sum(axis=1).plot()"
   ]
  },
  {
   "cell_type": "code",
   "execution_count": null,
   "id": "controversial-support",
   "metadata": {},
   "outputs": [],
   "source": [
    "plot_desc(neutralized_standardized)"
   ]
  },
  {
   "cell_type": "code",
   "execution_count": null,
   "id": "universal-volleyball",
   "metadata": {},
   "outputs": [],
   "source": [
    "standardized.iloc[IND].hist(bins=100, alpha=0.3)\n",
    "neutralized_standardized.iloc[IND].hist(bins=100)"
   ]
  },
  {
   "cell_type": "code",
   "execution_count": null,
   "id": "duplicate-surgeon",
   "metadata": {},
   "outputs": [],
   "source": [
    "uniformized.mul(betas).sum(axis=1).plot()\n",
    "neutralized_uniformized.mul(betas).sum(axis=1).plot()"
   ]
  },
  {
   "cell_type": "code",
   "execution_count": null,
   "id": "silver-pennsylvania",
   "metadata": {},
   "outputs": [],
   "source": [
    "plot_desc(neutralized_uniformized)"
   ]
  },
  {
   "cell_type": "code",
   "execution_count": null,
   "id": "impressive-intention",
   "metadata": {},
   "outputs": [],
   "source": [
    "uniformized.iloc[IND].hist(bins=100, alpha=0.3)\n",
    "neutralized_uniformized.iloc[IND].hist(bins=100)"
   ]
  }
 ],
 "metadata": {
  "kernelspec": {
   "display_name": "Python 3",
   "language": "python",
   "name": "python3"
  },
  "language_info": {
   "codemirror_mode": {
    "name": "ipython",
    "version": 3
   },
   "file_extension": ".py",
   "mimetype": "text/x-python",
   "name": "python",
   "nbconvert_exporter": "python",
   "pygments_lexer": "ipython3",
   "version": "3.9.9"
  }
 },
 "nbformat": 4,
 "nbformat_minor": 5
}
