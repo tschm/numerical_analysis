{
 "cells": [
  {
   "cell_type": "code",
   "execution_count": null,
   "id": "alternative-darkness",
   "metadata": {},
   "outputs": [],
   "source": [
    "from itertools import combinations, accumulate\n",
    "from functools import partial\n",
    "from multiprocessing import Pool\n",
    "import numpy as np\n",
    "import pandas as pd\n",
    "import matplotlib.pyplot as plt\n",
    "from archimedean_copulas import copulas\n",
    "from fit_archimedean_copula import edf, fit_archimedean_copula\n",
    "import warnings\n",
    "warnings.filterwarnings('ignore')"
   ]
  },
  {
   "cell_type": "markdown",
   "id": "tough-guinea",
   "metadata": {},
   "source": [
    "# Get univ"
   ]
  },
  {
   "cell_type": "raw",
   "id": "40bec48b",
   "metadata": {},
   "source": [
    "import yfinance as yf\n",
    "\n",
    "def load_close_prices(tickers):\n",
    "#     prices are not adjusted for splits or dividends\n",
    "    history = {\n",
    "        tic: yf.Ticker(tic).history(period='max')\n",
    "        for tic in tickers}\n",
    "    indexes = [set(data.index) for data in history.values()]\n",
    "    index = sorted(set.union(*indexes))\n",
    "    closes = pd.concat([\n",
    "        history[tic].reindex(index=index)['Close'].ffill()\n",
    "        for tic in tickers], axis=1)\n",
    "    closes.columns = tickers\n",
    "    stacked = closes.stack().reset_index()\n",
    "    stacked.columns = ['date', 'ticker', 'price']\n",
    "    return stacked\n",
    "\n",
    "yf_tickers = [\n",
    "    'nio', 'dwac', 'edu', 'didi', 'gme', 'aapl', 'tsla', 'amc', 'pg', 'f', 'snap', 'amzn',\n",
    "    'dis', 'msft', 'ge', 'rivn', 'bros', 'goog', 'googl', 'ccl', 'amd', 'nvda']\n",
    "prices = (\n",
    "    load_close_prices(yf_tickers)\n",
    "    .pivot(index='date', columns='ticker', values='price')\n",
    ")\n",
    "prices.to_parquet('prices_yf.parquet')"
   ]
  },
  {
   "cell_type": "code",
   "execution_count": null,
   "id": "informative-receiver",
   "metadata": {},
   "outputs": [],
   "source": [
    "prices = pd.read_parquet('prices_yf.parquet')\n",
    "THRES = 0.8\n",
    "nulls = prices.isnull().mean(axis=0)\n",
    "stocks_w_nans = nulls[nulls > THRES].sort_values()\n",
    "stocks_w_nans"
   ]
  },
  {
   "cell_type": "code",
   "execution_count": null,
   "id": "great-baptist",
   "metadata": {},
   "outputs": [],
   "source": [
    "cols = prices.columns\n",
    "stocks = cols[~cols.isin(stocks_w_nans.index)]\n",
    "prices = (\n",
    "    prices\n",
    "    .loc[:, stocks]\n",
    "    .ffill(limit=2)\n",
    "#     .dropna()\n",
    ")"
   ]
  },
  {
   "cell_type": "code",
   "execution_count": null,
   "id": "pretty-homework",
   "metadata": {},
   "outputs": [],
   "source": [
    "univ_stacked = pd.concat([\n",
    "    prices.stack(dropna=False).reset_index(),\n",
    "    prices.pct_change().stack(dropna=False).reset_index()[0]  # column 0; not clean (dividends, splits, ...)\n",
    "], axis=1)\n",
    "univ_stacked.columns = ['date', 'id', 'price', 'chg']  # price is mid_price\n",
    "CUT = '2007'  # '2006-09-19'\n",
    "univ_stacked = univ_stacked.query(f'date >= {CUT}')"
   ]
  },
  {
   "cell_type": "code",
   "execution_count": null,
   "id": "identified-magnet",
   "metadata": {},
   "outputs": [],
   "source": [
    "univ = univ_stacked.pivot(index='date', columns='id')\n",
    "univ"
   ]
  },
  {
   "cell_type": "markdown",
   "id": "legal-coating",
   "metadata": {},
   "source": [
    "# Formation period"
   ]
  },
  {
   "cell_type": "code",
   "execution_count": null,
   "id": "demographic-jesus",
   "metadata": {},
   "outputs": [],
   "source": [
    "def compute_coint_coeff(pair, univ):\n",
    "    prices = univ['price'].loc[:, pair]\n",
    "    invs = prices.iloc[0].rdiv(1)\n",
    "    slopes = prices.iloc[-1] * invs / len(prices)\n",
    "    invs.loc[pair[1]] = -invs.loc[pair[0]] * slopes[pair[0]] / slopes[pair[1]]\n",
    "    return invs\n",
    "\n",
    "pair = ('dis', 'pg')\n",
    "coeff = compute_coint_coeff(pair, univ)\n",
    "coeff"
   ]
  },
  {
   "cell_type": "code",
   "execution_count": null,
   "id": "after-disabled",
   "metadata": {},
   "outputs": [],
   "source": [
    "def form_spread(pair, coeff, prices):\n",
    "    return prices.loc[:, pair].mul(coeff, axis=1).sum(axis=1)\n",
    "\n",
    "spread = form_spread(pair, coeff, univ['price'])\n",
    "spread.plot(grid=True)"
   ]
  },
  {
   "cell_type": "code",
   "execution_count": null,
   "id": "compliant-hawaii",
   "metadata": {},
   "outputs": [],
   "source": [
    "def compute_scores(returns, pairs, method):\n",
    "    # method in {'pearson', 'kendall', 'spearman'}\n",
    "    return returns.corr(method=method).stack().loc[pairs]\n",
    "\n",
    "returns = univ['chg']\n",
    "compute_scores(returns, pair, 'kendall')"
   ]
  },
  {
   "cell_type": "code",
   "execution_count": null,
   "id": "molecular-union",
   "metadata": {},
   "outputs": [],
   "source": [
    "def get_scores(univ, method='spearman'):\n",
    "    pairs = list(combinations(univ['price'].columns, 2))\n",
    "    coeffs = {pair: compute_coint_coeff(pair, univ) for pair in pairs}\n",
    "    spreads = pd.DataFrame({\n",
    "        pair: form_spread(pair, coeff, univ['price']) for pair, coeff in coeffs.items()})\n",
    "    scores = compute_scores(univ['chg'], pairs, method=method)\n",
    "    return pairs, coeffs, spreads, scores"
   ]
  },
  {
   "cell_type": "code",
   "execution_count": null,
   "id": "97df4399",
   "metadata": {},
   "outputs": [],
   "source": [
    "pairs, coeffs, spreads, scores = get_scores(univ)\n",
    "scores"
   ]
  },
  {
   "cell_type": "code",
   "execution_count": null,
   "id": "partial-relay",
   "metadata": {},
   "outputs": [],
   "source": [
    "def selection(scores, **kwargs):\n",
    "    return list(scores.sort_values().head(kwargs['n_pairs']).index)\n",
    "\n",
    "kwargs = {'n_pairs': 10}\n",
    "selected = selection(scores, **kwargs)\n",
    "selected"
   ]
  },
  {
   "cell_type": "code",
   "execution_count": null,
   "id": "27a851e1",
   "metadata": {},
   "outputs": [],
   "source": [
    "def get_desc(pair, returns):\n",
    "    rets_0 = returns.loc[:, pair[0]]\n",
    "    rets_1 = returns.loc[:, pair[1]]\n",
    "    fit = fit_archimedean_copula(rets_0, rets_1)\n",
    "    return rets_0.to_list(), rets_1.to_list(), fit\n",
    "\n",
    "get_desc(pair, univ['chg'])[2]"
   ]
  },
  {
   "cell_type": "code",
   "execution_count": null,
   "id": "optimum-distribution",
   "metadata": {
    "scrolled": true
   },
   "outputs": [],
   "source": [
    "%%time\n",
    "\n",
    "def fit(univ, **kwargs):\n",
    "    _, coeffs, spreads, scores = get_scores(univ)\n",
    "    selected = selection(scores, **kwargs)\n",
    "    coeffs = {pair: coeffs[pair] for pair in selected}\n",
    "    spreads = spreads[selected]\n",
    "    descs = {pair: get_desc(pair, univ['chg']) for pair in selected}\n",
    "    return selected, coeffs, spreads, descs, scores[selected]\n",
    "\n",
    "kwargs = {'n_pairs': 10}\n",
    "top_pairs, coeffs, spreads, descs, scores = fit(univ, **kwargs)\n",
    "pd.concat([desc[2].rename(pair) for pair, desc in descs.items()], axis=1)\n",
    "\n",
    "# CPU times: user 2.15 s, sys: 13 ms, total: 2.16 s\n",
    "# Wall time: 2.19 s"
   ]
  },
  {
   "cell_type": "markdown",
   "id": "turned-steel",
   "metadata": {},
   "source": [
    "# Trading period"
   ]
  },
  {
   "cell_type": "markdown",
   "id": "iraqi-longer",
   "metadata": {},
   "source": [
    "## Trading rule"
   ]
  },
  {
   "cell_type": "code",
   "execution_count": null,
   "id": "34452313",
   "metadata": {},
   "outputs": [],
   "source": [
    "def enter_trade(desc, rets_0_cur, rets_1_cur, proba=0.95):\n",
    "    rets_0_fit, rets_1_fit, copula_fit = desc\n",
    "    uuu = edf(pd.Series(rets_0_fit + [rets_0_cur]))[-1]\n",
    "    vvv = edf(pd.Series(rets_1_fit + [rets_1_cur]))[-1]\n",
    "    chg_u = copulas[copula_fit['name']][4](uuu, vvv, copula_fit['theta'])\n",
    "    chg_v = copulas[copula_fit['name']][5](uuu, vvv, copula_fit['theta'])\n",
    "    new_pos = 0\n",
    "    if chg_u > proba and chg_v < 1 - proba:\n",
    "        new_pos = -1\n",
    "    elif chg_u < 1 - proba and chg_v > proba:\n",
    "        new_pos = +1\n",
    "    return new_pos\n",
    "\n",
    "pair = top_pairs[0]\n",
    "enter_trade(descs[pair], -0.01, +0.01)"
   ]
  },
  {
   "cell_type": "code",
   "execution_count": null,
   "id": "9217eb66",
   "metadata": {},
   "outputs": [],
   "source": [
    "def exit_trade(cur_pos, spread):\n",
    "    return np.sign(spread) * cur_pos == +1\n",
    "\n",
    "def exit_n_enter_trade(desc, cur_pos, spread, rets_0_cur, rets_1_cur):\n",
    "    if cur_pos != 0:\n",
    "        new_pos = 0 if exit_trade(cur_pos, spread) else cur_pos\n",
    "    else:\n",
    "        new_pos = enter_trade(desc, rets_0_cur, rets_1_cur)\n",
    "    return new_pos\n",
    "\n",
    "pair = top_pairs[0]\n",
    "spread = spreads[pair]\n",
    "exit_n_enter_trade(descs[pair], 0, spread, -0.01, +0.01)"
   ]
  },
  {
   "cell_type": "code",
   "execution_count": null,
   "id": "6d0a3c5c",
   "metadata": {},
   "outputs": [],
   "source": [
    "%%time\n",
    "\n",
    "def trade_series(pair, descs, spreads, returns):\n",
    "    def inner(cur_pos, data):\n",
    "        return exit_n_enter_trade(descs[pair], cur_pos, *data)\n",
    "    spread = spreads.loc[:, pair]\n",
    "    data = pd.concat([spread, returns.loc[:, pair]], axis=1)\n",
    "    pos = accumulate(data.values, inner, initial=0)\n",
    "    return pd.Series(index=spread.index, data=list(pos)[:-1])\n",
    "\n",
    "pos = trade_series(pair, descs, spreads, returns)\n",
    "spread = spreads[pair]\n",
    "spread.plot(grid=True)\n",
    "pos.mul(spread.max()).plot(grid=True)\n",
    "\n",
    "# CPU times: user 2.42 s, sys: 7.43 ms, total: 2.43 s\n",
    "# Wall time: 2.47 s"
   ]
  },
  {
   "cell_type": "markdown",
   "id": "private-processing",
   "metadata": {},
   "source": [
    "## On real data"
   ]
  },
  {
   "cell_type": "code",
   "execution_count": null,
   "id": "saving-minneapolis",
   "metadata": {},
   "outputs": [],
   "source": [
    "CUT = '2014'\n",
    "univ_in = univ.loc[:CUT]\n",
    "univ_out = univ.loc[CUT:]"
   ]
  },
  {
   "cell_type": "code",
   "execution_count": null,
   "id": "2128cf8b",
   "metadata": {},
   "outputs": [],
   "source": [
    "def trade(univ_out, top_pairs, coeffs, descs):\n",
    "    spreads = pd.DataFrame({pair: form_spread(\n",
    "        pair, coeff, univ_out['price']) for pair, coeff in coeffs.items()})\n",
    "    ad_hoc = lambda pair: trade_series(pair, descs, spreads, univ_out['chg'])\n",
    "    pos_spreads = pd.DataFrame({pair: ad_hoc(pair) for pair in top_pairs})\n",
    "    return spreads, pos_spreads\n",
    "\n",
    "top_pairs, coeffs, spreads, descs, scores = fit(univ_in, n_pairs=10)\n",
    "spreads, pos_spreads = trade(univ_out, top_pairs, coeffs, descs)"
   ]
  },
  {
   "cell_type": "code",
   "execution_count": null,
   "id": "genetic-jumping",
   "metadata": {},
   "outputs": [],
   "source": [
    "spreads.plot()"
   ]
  },
  {
   "cell_type": "code",
   "execution_count": null,
   "id": "romantic-donor",
   "metadata": {},
   "outputs": [],
   "source": [
    "pos_spreads.plot()"
   ]
  },
  {
   "cell_type": "code",
   "execution_count": null,
   "id": "cordless-basic",
   "metadata": {},
   "outputs": [],
   "source": [
    "def pos_spread_to_pos(pos_spread, coeff):\n",
    "    return pd.DataFrame(\n",
    "        index=pos_spread.index,\n",
    "        columns=coeff.index,\n",
    "        data=pos_spread.values.reshape(-1, 1) * coeff.values.reshape(1, -1)\n",
    "    )\n",
    "\n",
    "pair = pos_spreads.columns[3]\n",
    "pos_spread_to_pos(pos_spreads.loc[:, pair], coeffs[pair])"
   ]
  },
  {
   "cell_type": "code",
   "execution_count": null,
   "id": "executed-flight",
   "metadata": {},
   "outputs": [],
   "source": [
    "def net_positions(pos):\n",
    "    stacked = (\n",
    "        pd.concat(pos.values(), axis=1)\n",
    "        .stack()\n",
    "        .reset_index())\n",
    "    stacked.columns = ['date', 'id', 'pos']\n",
    "    return (\n",
    "        stacked\n",
    "        .groupby(['date', 'id'])\n",
    "        ['pos'].sum()\n",
    "        .reset_index()\n",
    "        .pivot(index='date', columns='id', values='pos'))\n",
    "\n",
    "top_pairs, coeffs, _, descs, _ = fit(univ_in, n_pairs=10)\n",
    "spreads, pos_spreads = trade(univ_out, top_pairs, coeffs, descs)\n",
    "pos = {pair: pos_spread_to_pos(pos_spreads.loc[:, pair], coeffs[pair]) for pair in top_pairs}\n",
    "net_pos = net_positions(pos)\n",
    "net_pos"
   ]
  },
  {
   "cell_type": "code",
   "execution_count": null,
   "id": "partial-audio",
   "metadata": {},
   "outputs": [],
   "source": [
    "def fit_n_trade(univ_in, univ_out, n_pairs):\n",
    "    top_pairs, coeffs, _, descs, _ = fit(univ_in, n_pairs=n_pairs)\n",
    "    spreads, pos_spreads = trade(univ_out, top_pairs, coeffs, descs)\n",
    "    pos = {pair: pos_spread_to_pos(pos_spreads.loc[:, pair], coeffs[pair]) for pair in top_pairs}\n",
    "    return net_positions(pos)"
   ]
  },
  {
   "cell_type": "code",
   "execution_count": null,
   "id": "identified-stockholm",
   "metadata": {},
   "outputs": [],
   "source": [
    "%%timeit\n",
    "_ = fit_n_trade(univ_in, univ_out, 10)\n",
    "\n",
    "# 6.46 s ± 174 ms per loop (mean ± std. dev. of 7 runs, 1 loop each)"
   ]
  },
  {
   "cell_type": "markdown",
   "id": "accredited-prime",
   "metadata": {},
   "source": [
    "# Rolling"
   ]
  },
  {
   "cell_type": "code",
   "execution_count": null,
   "id": "8f4ac0c8",
   "metadata": {},
   "outputs": [],
   "source": [
    "univ = univ.copy()\n",
    "n_pairs = 10\n",
    "gcd = 'W-MON'"
   ]
  },
  {
   "cell_type": "code",
   "execution_count": null,
   "id": "proved-remains",
   "metadata": {},
   "outputs": [],
   "source": [
    "%%time\n",
    "\n",
    "dates = pd.Series(index=univ.index, data=0)\n",
    "cuts = dates.resample(gcd).first().index\n",
    "splits = [\n",
    "    ((start, start_2), (start_2, start_3))\n",
    "    for start, start_2, start_3\n",
    "    in zip(cuts, cuts[2:], cuts[3:])]\n",
    "\n",
    "def fit_n_trade_split(split):\n",
    "    return fit_n_trade(\n",
    "        univ.loc[split[0][0]:split[0][1]],\n",
    "        univ.loc[split[1][0]:split[1][1]],\n",
    "        n_pairs)\n",
    "\n",
    "with Pool() as pool:\n",
    "    positions = pd.concat(pool.imap_unordered(fit_n_trade_split, splits)).sort_index()\n",
    "    \n",
    "# CPU times: user 3.02 s, sys: 248 ms, total: 3.27 s\n",
    "# Wall time: 6min 4s"
   ]
  },
  {
   "cell_type": "code",
   "execution_count": null,
   "id": "yellow-circuit",
   "metadata": {},
   "outputs": [],
   "source": [
    "positions[positions.abs().gt(0)].count(axis=1).plot(grid=True)"
   ]
  },
  {
   "cell_type": "code",
   "execution_count": null,
   "id": "sorted-consciousness",
   "metadata": {},
   "outputs": [],
   "source": [
    "positions.sum(axis=1).plot(grid=True)"
   ]
  },
  {
   "cell_type": "code",
   "execution_count": null,
   "id": "protected-lending",
   "metadata": {},
   "outputs": [],
   "source": [
    "positions.abs().sum(axis=1).plot(grid=True)"
   ]
  },
  {
   "cell_type": "code",
   "execution_count": null,
   "id": "rural-infrared",
   "metadata": {},
   "outputs": [],
   "source": [
    "positions = (\n",
    "    positions\n",
    "    .div(positions.abs().sum(axis=1), axis=0)\n",
    "    .fillna(0))\n",
    "positions.abs().sum(axis=1).plot(grid=True)"
   ]
  },
  {
   "cell_type": "code",
   "execution_count": null,
   "id": "solved-sending",
   "metadata": {},
   "outputs": [],
   "source": [
    "positions.sum(axis=1).plot(grid=True)"
   ]
  },
  {
   "cell_type": "code",
   "execution_count": null,
   "id": "single-arrangement",
   "metadata": {},
   "outputs": [],
   "source": [
    "positions.diff().abs().sum(axis=1).plot(grid=True)"
   ]
  }
 ],
 "metadata": {
  "kernelspec": {
   "display_name": "Python 3 (ipykernel)",
   "language": "python",
   "name": "python3"
  },
  "language_info": {
   "codemirror_mode": {
    "name": "ipython",
    "version": 3
   },
   "file_extension": ".py",
   "mimetype": "text/x-python",
   "name": "python",
   "nbconvert_exporter": "python",
   "pygments_lexer": "ipython3",
   "version": "3.10.4"
  }
 },
 "nbformat": 4,
 "nbformat_minor": 5
}
