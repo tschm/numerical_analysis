{
 "cells": [
  {
   "cell_type": "code",
   "execution_count": 1,
   "id": "b152ed25",
   "metadata": {},
   "outputs": [],
   "source": [
    "import numpy as np\n",
    "import pandas as pd\n",
    "from scipy.optimize import minimize\n",
    "import matplotlib.pyplot as plt\n",
    "import warnings\n",
    "warnings.filterwarnings('ignore')\n",
    "from archimedean_copulas import copulas"
   ]
  },
  {
   "cell_type": "code",
   "execution_count": 14,
   "id": "503701a2",
   "metadata": {},
   "outputs": [
    {
     "data": {
      "image/png": "[encoded data removed]",
      "text/plain": [
       "<Figure size 432x288 with 2 Axes>"
      ]
     },
     "metadata": {
      "needs_background": "light"
     },
     "output_type": "display_data"
    },
    {
     "data": {
      "image/png": "[encoded data removed]",
      "text/plain": [
       "<Figure size 432x288 with 1 Axes>"
      ]
     },
     "metadata": {
      "needs_background": "light"
     },
     "output_type": "display_data"
    }
   ],
   "source": [
    "SEED = 0\n",
    "rng = np.random.default_rng(SEED)\n",
    "rets = pd.DataFrame(rng.standard_normal((100, 2)))\n",
    "\n",
    "scat = {'x': 0, 'y': 1}\n",
    "rets.hist(bins=50)\n",
    "_ = rets.plot.scatter(**scat, grid=True)"
   ]
  },
  {
   "cell_type": "code",
   "execution_count": 11,
   "id": "f0169777",
   "metadata": {},
   "outputs": [
    {
     "data": {
      "text/html": [
       "<div>\n",
       "<style scoped>\n",
       "    .dataframe tbody tr th:only-of-type {\n",
       "        vertical-align: middle;\n",
       "    }\n",
       "\n",
       "    .dataframe tbody tr th {\n",
       "        vertical-align: top;\n",
       "    }\n",
       "\n",
       "    .dataframe thead th {\n",
       "        text-align: right;\n",
       "    }\n",
       "</style>\n",
       "<table border=\"1\" class=\"dataframe\">\n",
       "  <thead>\n",
       "    <tr style=\"text-align: right;\">\n",
       "      <th></th>\n",
       "      <th>0</th>\n",
       "      <th>1</th>\n",
       "    </tr>\n",
       "  </thead>\n",
       "  <tbody>\n",
       "    <tr>\n",
       "      <th>count</th>\n",
       "      <td>100.000000</td>\n",
       "      <td>100.000000</td>\n",
       "    </tr>\n",
       "    <tr>\n",
       "      <th>mean</th>\n",
       "      <td>0.505000</td>\n",
       "      <td>0.505000</td>\n",
       "    </tr>\n",
       "    <tr>\n",
       "      <th>std</th>\n",
       "      <td>0.290115</td>\n",
       "      <td>0.290115</td>\n",
       "    </tr>\n",
       "    <tr>\n",
       "      <th>min</th>\n",
       "      <td>0.010000</td>\n",
       "      <td>0.010000</td>\n",
       "    </tr>\n",
       "    <tr>\n",
       "      <th>25%</th>\n",
       "      <td>0.257500</td>\n",
       "      <td>0.257500</td>\n",
       "    </tr>\n",
       "    <tr>\n",
       "      <th>50%</th>\n",
       "      <td>0.505000</td>\n",
       "      <td>0.505000</td>\n",
       "    </tr>\n",
       "    <tr>\n",
       "      <th>75%</th>\n",
       "      <td>0.752500</td>\n",
       "      <td>0.752500</td>\n",
       "    </tr>\n",
       "    <tr>\n",
       "      <th>max</th>\n",
       "      <td>1.000000</td>\n",
       "      <td>1.000000</td>\n",
       "    </tr>\n",
       "  </tbody>\n",
       "</table>\n",
       "</div>"
      ],
      "text/plain": [
       "                0           1\n",
       "count  100.000000  100.000000\n",
       "mean     0.505000    0.505000\n",
       "std      0.290115    0.290115\n",
       "min      0.010000    0.010000\n",
       "25%      0.257500    0.257500\n",
       "50%      0.505000    0.505000\n",
       "75%      0.752500    0.752500\n",
       "max      1.000000    1.000000"
      ]
     },
     "execution_count": 11,
     "metadata": {},
     "output_type": "execute_result"
    },
    {
     "data": {
      "image/png": "[encoded data removed]",
      "text/plain": [
       "<Figure size 432x288 with 1 Axes>"
      ]
     },
     "metadata": {
      "needs_background": "light"
     },
     "output_type": "display_data"
    }
   ],
   "source": [
    "def edf(rets):\n",
    "    return rets.rank(method='min', pct=True).values\n",
    "\n",
    "edfs = edf(rets)\n",
    "edf_0, edf_1 = edfs[:, 0], edfs[:, 1]\n",
    "pd.DataFrame(edfs).plot.scatter(**scat, grid=True)\n",
    "pd.DataFrame(edfs).describe()"
   ]
  },
  {
   "cell_type": "code",
   "execution_count": null,
   "id": "caad1ea8",
   "metadata": {},
   "outputs": [],
   "source": [
    "methods = [\n",
    "    'Nelder-Mead',\n",
    "    'Powell',\n",
    "    'CG',\n",
    "    'BFGS',\n",
    "    'L-BFGS-B',\n",
    "    'TNC',\n",
    "    'COBYLA',\n",
    "    'SLSQP',\n",
    "]\n",
    "\n",
    "def pseudo_max_likelihood(copula, edf_0, edf_1, method):\n",
    "    minus_log_likelihood = lambda theta: np.sum(-np.log(copula(edf_0, edf_1, theta)))\n",
    "    res = dict(minimize(minus_log_likelihood, x0=1, method=method))\n",
    "    res['x'] = res['x'][0]\n",
    "    res['method'] = method\n",
    "    return pd.Series(res)\n",
    "\n",
    "pseudo_max_likelihood(copulas['04'][0], edf_0, edf_1, methods[0])"
   ]
  },
  {
   "cell_type": "code",
   "execution_count": null,
   "id": "784bfc20",
   "metadata": {},
   "outputs": [],
   "source": [
    "def fit_copula(copula, edf_0, edf_1):\n",
    "    optims = [\n",
    "        pseudo_max_likelihood(copula, edf_0, edf_1, method)\n",
    "        for method in methods]\n",
    "    cols = {\n",
    "        'fun': 'float', 'nit': 'float', 'nfev': 'int', 'status': 'int',\n",
    "        'success': 'bool', 'message': 'object', 'method': 'object', 'x': 'float'\n",
    "    }\n",
    "    acceptable = pd.concat(optims, axis=1).T.loc[:, cols.keys()].astype(cols)\n",
    "    acceptable = acceptable[\n",
    "        acceptable['fun'].apply(np.isfinite)\n",
    "        & acceptable['nit'].gt(1)\n",
    "        & acceptable['success']\n",
    "        & acceptable['message'].str.contains('Optimization terminated successfully')\n",
    "    ]\n",
    "    return None if acceptable.empty or len(acceptable) < 3 else acceptable['x'].median()\n",
    "\n",
    "fit_copula(copulas['04'][0], edf_0, edf_1)"
   ]
  },
  {
   "cell_type": "code",
   "execution_count": null,
   "id": "c1c82047",
   "metadata": {},
   "outputs": [],
   "source": [
    "def generator(fun, der, ttt, theta):\n",
    "    return ttt - fun(ttt, theta) / der(ttt, theta)\n",
    "\n",
    "def ks_dist(left, right):\n",
    "    return (left - right).abs().max()\n",
    "\n",
    "def assess_fit(name, theta, edf_0, edf_1):\n",
    "    if theta is None or theta < copulas[name][1]:\n",
    "        dist = np.nan\n",
    "    else:\n",
    "        vals = copulas[name][0](edf_0, edf_1, theta)\n",
    "        dfs = pd.Series(vals).rename('vals_copula').to_frame()\n",
    "        dfs['empirical'] = edf(dfs['vals_copula'])\n",
    "        dfs['theoretical'] = generator(copulas[name][2], copulas[name][3], vals, theta)\n",
    "        dist = ks_dist(dfs['empirical'], dfs['theoretical'])\n",
    "    return name, theta, dist\n",
    "\n",
    "fits = {\n",
    "    name: fit_copula(defi[0], edf_0, edf_1)\n",
    "    for name, defi in copulas.items()}\n",
    "data = [\n",
    "    assess_fit(name, theta, edf_0, edf_1)\n",
    "    for name, theta in fits.items()]\n",
    "fits_quality = pd.DataFrame(data=data, columns=['name', 'theta', 'KS_dist'])\n",
    "fits_quality"
   ]
  },
  {
   "cell_type": "code",
   "execution_count": null,
   "id": "8bf109fe",
   "metadata": {},
   "outputs": [],
   "source": [
    "def fit_archimedean_copula(rets_0, rets_1):\n",
    "    edf_0 = edf(rets_0)\n",
    "    edf_1 = edf(rets_1)\n",
    "    fits = {\n",
    "        name: fit_copula(defi[0], edf_0, edf_1)\n",
    "        for name, defi in copulas.items()}\n",
    "    fits_quality = [\n",
    "        assess_fit(name, theta, edf_0, edf_1)\n",
    "        for name, theta in fits.items()]\n",
    "    fits_quality = pd.DataFrame(\n",
    "        data=fits_quality, columns=['name', 'theta', 'KS_dist'])\n",
    "    remaining = fits_quality.dropna()\n",
    "    return remaining.iloc[remaining['KS_dist'].argmin()] if not remaining.empty else None\n",
    "\n",
    "fit_archimedean_copula(rets.loc[:, 0], rets.loc[:, 1])"
   ]
  }
 ],
 "metadata": {
  "kernelspec": {
   "display_name": "Python 3 (ipykernel)",
   "language": "python",
   "name": "python3"
  },
  "language_info": {
   "codemirror_mode": {
    "name": "ipython",
    "version": 3
   },
   "file_extension": ".py",
   "mimetype": "text/x-python",
   "name": "python",
   "nbconvert_exporter": "python",
   "pygments_lexer": "ipython3",
   "version": "3.10.4"
  }
 },
 "nbformat": 4,
 "nbformat_minor": 5
}
