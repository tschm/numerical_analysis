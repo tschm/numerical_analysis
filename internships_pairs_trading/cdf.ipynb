{
 "cells": [
  {
   "cell_type": "code",
   "execution_count": null,
   "id": "paperback-venue",
   "metadata": {},
   "outputs": [],
   "source": [
    "import numpy as np\n",
    "# import pandas as pd\n",
    "import matplotlib.pyplot as plt"
   ]
  },
  {
   "cell_type": "markdown",
   "id": "broke-system",
   "metadata": {},
   "source": [
    "# Utils"
   ]
  },
  {
   "cell_type": "code",
   "execution_count": null,
   "id": "figured-uniform",
   "metadata": {},
   "outputs": [],
   "source": [
    "def cdf(rands):\n",
    "    return np.array(sorted(rands)), np.linspace(1 / len(rands), 1, len(rands))\n",
    "\n",
    "def interpolate(sorted_vals_1, probs_1, sorted_vals_2, probs_2):\n",
    "    xxx = np.concatenate([sorted_vals_1, sorted_vals_2])\n",
    "    left = max(min(sorted_vals_1), min(sorted_vals_2))\n",
    "    right = min(max(sorted_vals_1), max(sorted_vals_2))\n",
    "    xxx = sorted(xxx[(xxx >= left) & (xxx <= right)])\n",
    "    yyy_1 = np.interp(xxx, sorted_vals_1, probs_1)\n",
    "    yyy_2 = np.interp(xxx, sorted_vals_2, probs_2)\n",
    "    return xxx, yyy_1, yyy_2\n",
    "\n",
    "def ks_dist(sorted_vals_1, probs_1, sorted_vals_2, probs_2):\n",
    "    _, yyy_1, yyy_2 = interpolate(sorted_vals_1, probs_1, sorted_vals_2, probs_2)\n",
    "    return np.abs(yyy_1 - yyy_2).max()"
   ]
  },
  {
   "cell_type": "markdown",
   "id": "dominican-aerospace",
   "metadata": {},
   "source": [
    "# Examples"
   ]
  },
  {
   "cell_type": "code",
   "execution_count": null,
   "id": "greek-intermediate",
   "metadata": {},
   "outputs": [],
   "source": [
    "rng = np.random.default_rng(0)\n",
    "N_PTS = 10"
   ]
  },
  {
   "cell_type": "code",
   "execution_count": null,
   "id": "alien-staff",
   "metadata": {},
   "outputs": [],
   "source": [
    "rands_1 = rng.standard_normal(N_PTS)\n",
    "rands_2 = rng.standard_normal(N_PTS)\n",
    "plt.scatter(rands_1, rands_2)\n",
    "plt.grid(True)"
   ]
  },
  {
   "cell_type": "markdown",
   "id": "specific-consequence",
   "metadata": {},
   "source": [
    "## Some plots"
   ]
  },
  {
   "cell_type": "code",
   "execution_count": null,
   "id": "verified-pixel",
   "metadata": {},
   "outputs": [],
   "source": [
    "plt.scatter(sorted(rands_1), sorted(rands_2))\n",
    "plt.grid(True)"
   ]
  },
  {
   "cell_type": "code",
   "execution_count": null,
   "id": "surprising-prisoner",
   "metadata": {},
   "outputs": [],
   "source": [
    "_ = plt.hist(rands_1, bins=5)\n",
    "_ = plt.hist(rands_2, bins=5, alpha=0.3)\n",
    "plt.grid(True)"
   ]
  },
  {
   "cell_type": "markdown",
   "id": "persistent-mumbai",
   "metadata": {},
   "source": [
    "## Cdf"
   ]
  },
  {
   "cell_type": "code",
   "execution_count": null,
   "id": "mature-recycling",
   "metadata": {},
   "outputs": [],
   "source": [
    "vals_1, probs_1 = cdf(rands_1)\n",
    "plt.plot(vals_1, probs_1)\n",
    "plt.grid(True)\n",
    "\n",
    "vals_2, probs_2 = cdf(rands_2)\n",
    "plt.plot(vals_2, probs_2)\n",
    "plt.grid(True)"
   ]
  },
  {
   "cell_type": "markdown",
   "id": "moderate-serbia",
   "metadata": {},
   "source": [
    "## Interpolate"
   ]
  },
  {
   "cell_type": "code",
   "execution_count": null,
   "id": "imposed-taste",
   "metadata": {},
   "outputs": [],
   "source": [
    "xxx, yyy_1, yyy_2 = interpolate(vals_1, probs_1, vals_2, probs_2)"
   ]
  },
  {
   "cell_type": "code",
   "execution_count": null,
   "id": "filled-telling",
   "metadata": {},
   "outputs": [],
   "source": [
    "plt.plot(xxx, yyy_1)\n",
    "plt.plot(vals_1, probs_1, 'o')\n",
    "plt.grid(True)"
   ]
  },
  {
   "cell_type": "code",
   "execution_count": null,
   "id": "comprehensive-elevation",
   "metadata": {},
   "outputs": [],
   "source": [
    "plt.plot(xxx, yyy_2)\n",
    "plt.plot(vals_2, probs_2, 'o')\n",
    "plt.grid(True)"
   ]
  },
  {
   "cell_type": "code",
   "execution_count": null,
   "id": "recognized-cycle",
   "metadata": {},
   "outputs": [],
   "source": [
    "plt.plot(xxx, yyy_1)\n",
    "plt.plot(xxx, yyy_2)\n",
    "plt.grid(True)"
   ]
  },
  {
   "cell_type": "markdown",
   "id": "annoying-attempt",
   "metadata": {},
   "source": [
    "## KS distance"
   ]
  },
  {
   "cell_type": "code",
   "execution_count": null,
   "id": "nominated-hospital",
   "metadata": {},
   "outputs": [],
   "source": [
    "ks_dist(vals_1, probs_1, vals_2, probs_2)"
   ]
  },
  {
   "cell_type": "code",
   "execution_count": null,
   "id": "professional-associate",
   "metadata": {},
   "outputs": [],
   "source": [
    "%%time\n",
    "n_pts = np.logspace(1, 6, 20).astype(int)\n",
    "dists = [ks_dist(*cdf(rng.standard_normal(n_pt)), *cdf(rng.standard_normal(n_pt))) for n_pt in n_pts]\n",
    "plt.loglog(n_pts, dists)\n",
    "plt.grid()"
   ]
  }
 ],
 "metadata": {
  "kernelspec": {
   "display_name": "Python 3",
   "language": "python",
   "name": "python3"
  },
  "language_info": {
   "codemirror_mode": {
    "name": "ipython",
    "version": 3
   },
   "file_extension": ".py",
   "mimetype": "text/x-python",
   "name": "python",
   "nbconvert_exporter": "python",
   "pygments_lexer": "ipython3",
   "version": "3.9.9"
  }
 },
 "nbformat": 4,
 "nbformat_minor": 5
}
