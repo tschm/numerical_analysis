{
 "cells": [
  {
   "cell_type": "code",
   "execution_count": null,
   "id": "alternative-darkness",
   "metadata": {},
   "outputs": [],
   "source": [
    "from itertools import combinations, accumulate\n",
    "from functools import partial\n",
    "from multiprocessing import Pool\n",
    "import numpy as np\n",
    "from numpy.linalg import norm\n",
    "import pandas as pd\n",
    "# from sklearn.linear_model import LinearRegression\n",
    "import matplotlib.pyplot as plt"
   ]
  },
  {
   "cell_type": "markdown",
   "id": "tough-guinea",
   "metadata": {},
   "source": [
    "# Get univ"
   ]
  },
  {
   "cell_type": "raw",
   "id": "1aeb2244",
   "metadata": {},
   "source": [
    "import yfinance as yf\n",
    "\n",
    "def load_close_prices(tickers):\n",
    "#     prices are not adjusted for splits or dividends\n",
    "    history = {\n",
    "        tic: yf.Ticker(tic).history(period='max')\n",
    "        for tic in tickers}\n",
    "    indexes = [set(data.index) for data in history.values()]\n",
    "    index = sorted(set.union(*indexes))\n",
    "    closes = pd.concat([\n",
    "        history[tic].reindex(index=index)['Close'].ffill()\n",
    "        for tic in tickers], axis=1)\n",
    "    closes.columns = tickers\n",
    "    stacked = closes.stack().reset_index()\n",
    "    stacked.columns = ['date', 'ticker', 'price']\n",
    "    return stacked\n",
    "\n",
    "yf_tickers = [\n",
    "    'nio', 'dwac', 'edu', 'didi', 'gme', 'aapl', 'tsla', 'amc', 'pg', 'f', 'snap', 'amzn',\n",
    "    'dis', 'msft', 'ge', 'rivn', 'bros', 'goog', 'googl', 'ccl', 'amd', 'nvda']\n",
    "prices = (\n",
    "    load_close_prices(yf_tickers)\n",
    "    .pivot(index='date', columns='ticker', values='price')\n",
    ")\n",
    "prices.to_parquet('prices_yf.parquet')"
   ]
  },
  {
   "cell_type": "code",
   "execution_count": null,
   "id": "informative-receiver",
   "metadata": {},
   "outputs": [],
   "source": [
    "prices = pd.read_parquet('prices_yf.parquet')\n",
    "THRES = 0.8\n",
    "nulls = prices.isnull().mean(axis=0)\n",
    "stocks_w_nans = nulls[nulls > THRES].sort_values()\n",
    "stocks_w_nans"
   ]
  },
  {
   "cell_type": "code",
   "execution_count": null,
   "id": "great-baptist",
   "metadata": {},
   "outputs": [],
   "source": [
    "cols = prices.columns\n",
    "stocks = cols[~cols.isin(stocks_w_nans.index)]\n",
    "prices = (\n",
    "    prices\n",
    "    .loc[:, stocks]\n",
    "    .ffill(limit=2)\n",
    "#     .dropna()\n",
    ")"
   ]
  },
  {
   "cell_type": "code",
   "execution_count": null,
   "id": "pretty-homework",
   "metadata": {},
   "outputs": [],
   "source": [
    "univ_stacked = pd.concat([\n",
    "    prices.stack(dropna=False).reset_index(),\n",
    "    prices.pct_change().stack(dropna=False).reset_index()[0]  # column 0; not clean (dividends, splits, ...)\n",
    "], axis=1)\n",
    "univ_stacked.columns = ['date', 'id', 'price', 'chg']  # price is mid_price\n",
    "CUT = '2007'  # '2006-09-19'\n",
    "univ_stacked = univ_stacked.query(f'date >= {CUT}')"
   ]
  },
  {
   "cell_type": "code",
   "execution_count": null,
   "id": "identified-magnet",
   "metadata": {},
   "outputs": [],
   "source": [
    "univ = univ_stacked.pivot(index='date', columns='id')\n",
    "univ"
   ]
  },
  {
   "cell_type": "markdown",
   "id": "legal-coating",
   "metadata": {},
   "source": [
    "# Formation period"
   ]
  },
  {
   "cell_type": "code",
   "execution_count": null,
   "id": "demographic-jesus",
   "metadata": {},
   "outputs": [],
   "source": [
    "def compute_coint_coeff(pair, univ):\n",
    "    prices = univ['price'].loc[:, pair]\n",
    "    invs = prices.iloc[0].rdiv(1)\n",
    "    invs.loc[pair[1]] *= -1\n",
    "    return invs\n",
    "\n",
    "pair = ('dis', 'pg')\n",
    "coeff = compute_coint_coeff(pair, univ)\n",
    "coeff"
   ]
  },
  {
   "cell_type": "code",
   "execution_count": null,
   "id": "after-disabled",
   "metadata": {},
   "outputs": [],
   "source": [
    "def form_spread(pair, coeff, prices):\n",
    "    return prices.loc[:, pair].mul(coeff, axis=1).sum(axis=1)\n",
    "\n",
    "spread = form_spread(pair, coeff, univ['price'])\n",
    "spread.plot(grid=True)"
   ]
  },
  {
   "cell_type": "code",
   "execution_count": null,
   "id": "compliant-hawaii",
   "metadata": {},
   "outputs": [],
   "source": [
    "def compute_score(spread):\n",
    "    return norm(spread)\n",
    "\n",
    "compute_score(spread)"
   ]
  },
  {
   "cell_type": "code",
   "execution_count": null,
   "id": "molecular-union",
   "metadata": {},
   "outputs": [],
   "source": [
    "def get_scores(univ):\n",
    "    pairs = list(combinations(univ['price'].columns, 2))\n",
    "    coeffs = {pair: compute_coint_coeff(pair, univ) for pair in pairs}\n",
    "    spreads = pd.DataFrame({\n",
    "        pair: form_spread(pair, coeff, univ['price']) for pair, coeff in coeffs.items()})\n",
    "    scores = spreads.apply(compute_score)\n",
    "    return pairs, coeffs, spreads, scores"
   ]
  },
  {
   "cell_type": "code",
   "execution_count": null,
   "id": "comic-alloy",
   "metadata": {},
   "outputs": [],
   "source": [
    "pairs, coeffs, spreads, scores = get_scores(univ)\n",
    "scores"
   ]
  },
  {
   "cell_type": "code",
   "execution_count": null,
   "id": "partial-relay",
   "metadata": {
    "scrolled": true
   },
   "outputs": [],
   "source": [
    "def selection(scores, **kwargs):\n",
    "    return list(scores.sort_values().head(kwargs['n_pairs']).index)\n",
    "\n",
    "kwargs = {'n_pairs': 10}\n",
    "selected = selection(scores, **kwargs)\n",
    "selected"
   ]
  },
  {
   "cell_type": "code",
   "execution_count": null,
   "id": "optimum-distribution",
   "metadata": {},
   "outputs": [],
   "source": [
    "def fit(univ, **kwargs):\n",
    "    _, coeffs, spreads, scores = get_scores(univ)\n",
    "    selected = selection(scores, **kwargs)\n",
    "    coeffs = {pair: coeffs[pair] for pair in selected}\n",
    "    spreads = spreads[selected]\n",
    "    descs = spreads.describe()\n",
    "    return selected, coeffs, spreads, descs, scores[selected]\n",
    "\n",
    "kwargs = {'n_pairs': 10}\n",
    "top_pairs, coeffs, spreads, descs, scores = fit(univ, **kwargs)\n",
    "spreads"
   ]
  },
  {
   "cell_type": "markdown",
   "id": "turned-steel",
   "metadata": {},
   "source": [
    "# Trading period"
   ]
  },
  {
   "cell_type": "markdown",
   "id": "iraqi-longer",
   "metadata": {},
   "source": [
    "## Trading rule"
   ]
  },
  {
   "cell_type": "code",
   "execution_count": null,
   "id": "neutral-south",
   "metadata": {},
   "outputs": [],
   "source": [
    "def trading_rule(cur_pos, st_spread, **kwargs):\n",
    "    assert 'threshold' in kwargs and kwargs['threshold'] > 0\n",
    "    new_pos = 0\n",
    "    if st_spread < -kwargs['threshold']:\n",
    "        new_pos = +1\n",
    "    elif st_spread > kwargs['threshold']:\n",
    "        new_pos = -1\n",
    "    # st_spread in [-kwargs['threshold'], kwargs['threshold']]\n",
    "    elif np.sign(st_spread) * cur_pos == -1:\n",
    "        new_pos = cur_pos\n",
    "    return new_pos\n",
    "\n",
    "xxx = np.linspace(0, 3, 100)\n",
    "yyy = 2 * np.sin(3 * xxx)\n",
    "\n",
    "kwargs = dict(threshold=1)\n",
    "rule = partial(trading_rule, **kwargs)\n",
    "pos = accumulate(yyy, rule, initial=0)\n",
    "pos = list(pos)[:-1]\n",
    "plt.plot(xxx, pos)\n",
    "plt.plot(xxx, yyy)\n",
    "plt.grid(True)"
   ]
  },
  {
   "cell_type": "code",
   "execution_count": null,
   "id": "caring-static",
   "metadata": {},
   "outputs": [],
   "source": [
    "def trade_series(st_spread, trade_rule, **kwargs):\n",
    "    rule = partial(trade_rule, **kwargs)\n",
    "    pos = accumulate(st_spread.values, rule, initial=0)\n",
    "    return pd.Series(index=st_spread.index, data=list(pos)[:-1])\n",
    "\n",
    "xxx = np.linspace(0, 3, 100)\n",
    "yyy = pd.Series(2 * np.sin(3 * xxx))\n",
    "\n",
    "kwargs = dict(threshold=1)\n",
    "pos = trade_series(yyy, trading_rule, **kwargs)\n",
    "plt.plot(xxx, pos)\n",
    "plt.plot(xxx, yyy)\n",
    "plt.grid(True)"
   ]
  },
  {
   "cell_type": "code",
   "execution_count": null,
   "id": "floppy-tracy",
   "metadata": {},
   "outputs": [],
   "source": [
    "spread = spreads.iloc[:, 0]\n",
    "pos = trade_series(spread, trading_rule, threshold=0.1)\n",
    "spread.plot()\n",
    "pos.mul(spread.max()).plot(grid=True)"
   ]
  },
  {
   "cell_type": "markdown",
   "id": "private-processing",
   "metadata": {},
   "source": [
    "## On real data"
   ]
  },
  {
   "cell_type": "code",
   "execution_count": null,
   "id": "saving-minneapolis",
   "metadata": {},
   "outputs": [],
   "source": [
    "CUT = '2014'\n",
    "univ_in = univ.loc[:CUT]\n",
    "univ_out = univ.loc[CUT:]"
   ]
  },
  {
   "cell_type": "code",
   "execution_count": null,
   "id": "miniature-suspension",
   "metadata": {},
   "outputs": [],
   "source": [
    "def trade(univ_out, top_pairs, descs, trade_rule, **kwargs):\n",
    "    coeffs = {pair: compute_coint_coeff(pair, univ_out) for pair in top_pairs}\n",
    "    # it is not forward looking as only the first price is used\n",
    "    spreads = pd.DataFrame({pair: form_spread(\n",
    "        pair, coeff, univ_out['price']) for pair, coeff in coeffs.items()})\n",
    "    st_spreads = (spreads - descs.loc['mean', :]) / descs.loc['std', :]\n",
    "    pos = st_spreads.apply(partial(trade_series, trade_rule=trade_rule, **kwargs))\n",
    "    return coeffs, spreads, pos\n",
    "\n",
    "top_pairs, coeffs, spreads, descs, scores = fit(univ_in, n_pairs=10)\n",
    "coeffs, spreads, pos = trade(univ_out, top_pairs, descs, trading_rule, threshold=2)"
   ]
  },
  {
   "cell_type": "code",
   "execution_count": null,
   "id": "genetic-jumping",
   "metadata": {},
   "outputs": [],
   "source": [
    "spreads.plot()"
   ]
  },
  {
   "cell_type": "code",
   "execution_count": null,
   "id": "romantic-donor",
   "metadata": {},
   "outputs": [],
   "source": [
    "pos.plot()"
   ]
  },
  {
   "cell_type": "code",
   "execution_count": null,
   "id": "cordless-basic",
   "metadata": {},
   "outputs": [],
   "source": [
    "def pos_spread_to_pos(pos_spread, coeff):\n",
    "    return pd.DataFrame(\n",
    "        index=pos_spread.index,\n",
    "        columns=coeff.index,\n",
    "        data=pos_spread.values.reshape(-1, 1) * coeff.values.reshape(1, -1)\n",
    "    )\n",
    "\n",
    "pair = pos.columns[3]\n",
    "pos_spread_to_pos(pos.loc[:, pair], coeffs[pair])"
   ]
  },
  {
   "cell_type": "code",
   "execution_count": null,
   "id": "executed-flight",
   "metadata": {},
   "outputs": [],
   "source": [
    "def net_positions(pos):\n",
    "    stacked = (\n",
    "        pd.concat(pos.values(), axis=1)\n",
    "        .stack()\n",
    "        .reset_index())\n",
    "    stacked.columns = ['date', 'id', 'pos']\n",
    "    return (\n",
    "        stacked\n",
    "        .groupby(['date', 'id'])\n",
    "        ['pos'].sum()\n",
    "        .reset_index()\n",
    "        .pivot(index='date', columns='id', values='pos'))\n",
    "\n",
    "top_pairs, _, _, descs, _ = fit(univ_in, n_pairs=10)\n",
    "coeffs, _, pos_spread = trade(univ_out, top_pairs, descs, trading_rule, threshold=2)\n",
    "pos = {pair: pos_spread_to_pos(pos_spread.loc[:, pair], coeffs[pair]) for pair in top_pairs}\n",
    "net_pos = net_positions(pos)\n",
    "net_pos"
   ]
  },
  {
   "cell_type": "code",
   "execution_count": null,
   "id": "partial-audio",
   "metadata": {},
   "outputs": [],
   "source": [
    "def fit_n_trade(univ_in, univ_out, n_pairs, thres):\n",
    "    top_pairs, _, _, descs, _ = fit(univ_in, n_pairs=n_pairs)\n",
    "    coeffs, _, pos_spread = trade(univ_out, top_pairs, descs, trading_rule, threshold=thres)\n",
    "    pos = {pair: pos_spread_to_pos(pos_spread.loc[:, pair], coeffs[pair]) for pair in top_pairs}\n",
    "    return net_positions(pos)"
   ]
  },
  {
   "cell_type": "code",
   "execution_count": null,
   "id": "identified-stockholm",
   "metadata": {},
   "outputs": [],
   "source": [
    "%%timeit\n",
    "_ = fit_n_trade(univ_in, univ_out, 10, 2)\n",
    "\n",
    "# 205 ms ± 1.25 ms per loop (mean ± std. dev. of 7 runs, 1 loop each)"
   ]
  },
  {
   "cell_type": "markdown",
   "id": "accredited-prime",
   "metadata": {},
   "source": [
    "# Rolling"
   ]
  },
  {
   "cell_type": "code",
   "execution_count": null,
   "id": "bf1ee2fa",
   "metadata": {},
   "outputs": [],
   "source": [
    "univ = univ.copy()\n",
    "n_pairs = 10\n",
    "thres = 2\n",
    "gcd = '2Q'"
   ]
  },
  {
   "cell_type": "code",
   "execution_count": null,
   "id": "7cc6a7a9",
   "metadata": {},
   "outputs": [],
   "source": [
    "%%time\n",
    "dates = pd.Series(index=univ.index, data=0)\n",
    "cuts = dates.resample(gcd).first().index\n",
    "splits = [\n",
    "    ((start, start_2), (start_2, start_3))\n",
    "    for start, start_2, start_3\n",
    "    in zip(cuts, cuts[2:], cuts[3:])]\n",
    "\n",
    "def fit_n_trade_split(split):\n",
    "    return fit_n_trade(\n",
    "        univ.loc[split[0][0]:split[0][1]],\n",
    "        univ.loc[split[1][0]:split[1][1]],\n",
    "        n_pairs, thres)\n",
    "\n",
    "with Pool() as pool:\n",
    "    positions = pd.concat(pool.imap_unordered(fit_n_trade_split, splits)).sort_index()"
   ]
  },
  {
   "cell_type": "code",
   "execution_count": null,
   "id": "yellow-circuit",
   "metadata": {},
   "outputs": [],
   "source": [
    "positions[positions.abs().gt(0)].count(axis=1).plot(grid=True)"
   ]
  },
  {
   "cell_type": "code",
   "execution_count": null,
   "id": "sorted-consciousness",
   "metadata": {},
   "outputs": [],
   "source": [
    "positions.sum(axis=1).plot(grid=True)"
   ]
  },
  {
   "cell_type": "code",
   "execution_count": null,
   "id": "protected-lending",
   "metadata": {},
   "outputs": [],
   "source": [
    "positions.abs().sum(axis=1).plot(grid=True)"
   ]
  },
  {
   "cell_type": "code",
   "execution_count": null,
   "id": "rural-infrared",
   "metadata": {},
   "outputs": [],
   "source": [
    "positions = (\n",
    "    positions\n",
    "    .div(positions.abs().sum(axis=1), axis=0)\n",
    "    .fillna(0))\n",
    "positions.abs().sum(axis=1).plot(grid=True)"
   ]
  },
  {
   "cell_type": "code",
   "execution_count": null,
   "id": "solved-sending",
   "metadata": {},
   "outputs": [],
   "source": [
    "positions.sum(axis=1).plot(grid=True)"
   ]
  },
  {
   "cell_type": "code",
   "execution_count": null,
   "id": "single-arrangement",
   "metadata": {},
   "outputs": [],
   "source": [
    "positions.diff().abs().sum(axis=1).plot(grid=True)"
   ]
  },
  {
   "cell_type": "code",
   "execution_count": null,
   "id": "agricultural-retailer",
   "metadata": {},
   "outputs": [],
   "source": [
    "# # Cointegration criteria\n",
    "\n",
    "# def returns_corr(cpl, method, returns):\n",
    "#     # method in {‘pearson’, ‘kendall’, ‘spearman’}\n",
    "#     return returns.loc[:, cpl].corr(method=method).iloc[0, 1]\n",
    "\n",
    "# def diff_prices(cpl, normalized_prices):\n",
    "#     prices_0 = normalized_prices.loc[:, cpl[0]]\n",
    "#     prices_1 = normalized_prices.loc[:, cpl[1]]\n",
    "#     return norm(prices_0 - prices_1)\n",
    "\n",
    "# def ratio_prices(cpl, normalized_prices):\n",
    "#     prices_0 = normalized_prices.loc[:, cpl[0]]\n",
    "#     prices_1 = normalized_prices.loc[:, cpl[1]]\n",
    "#     return norm(prices_0 / prices_1 - 1)\n",
    "\n",
    "# def diff_ranks(cpl, normalized_prices):\n",
    "#     prices_ranks_0 = normalized_prices.loc[:, cpl[0]].rank()\n",
    "#     prices_ranks_1 = normalized_prices.loc[:, cpl[1]].rank()\n",
    "#     return norm(prices_ranks_0 - prices_ranks_1)\n",
    "\n",
    "# def ratio_ranks(cpl, normalized_prices):\n",
    "#     prices_ranks_0 = normalized_prices.loc[:, cpl[0]].rank()\n",
    "#     prices_ranks_1 = normalized_prices.loc[:, cpl[1]].rank()\n",
    "#     return norm(prices_ranks_0 / prices_ranks_1 - 1)\n",
    "\n",
    "# methods = ['pearson', 'kendall', 'spearman']\n",
    "# funs = [\n",
    "#     diff_prices,\n",
    "#     diff_ranks,\n",
    "#     ratio_prices,\n",
    "#     ratio_ranks]\n",
    "\n",
    "# def cointegration_criteria(cpl, returns, normalized_prices):\n",
    "#     crits = {\n",
    "#         f'corr_returns_{method}': returns_corr(cpl, method, returns)\n",
    "#         for method in methods}\n",
    "#     crits.update({fun.__name__: fun(cpl, normalized_prices) for fun in funs})\n",
    "#     return pd.Series(crits)\n",
    "\n",
    "# def eval_crits_n_hierarchical_agg(returns, normalized_prices, agg='mean'):\n",
    "#     stocks = normalized_prices.columns\n",
    "#     index = pd.DataFrame(data=combinations(stocks, 2))\n",
    "#     index.columns = 'stock_' + index.columns.astype(str)\n",
    "#     coint_crit = partial(\n",
    "#         cointegration_criteria, returns=returns, normalized_prices=normalized_prices)\n",
    "#     ranks_crits = index.apply(coint_crit, axis=1).rank()\n",
    "#     groups = [fun.__name__.split('_')[-1] for fun in funs] + ['corr', agg]\n",
    "#     for group in groups:\n",
    "#         members = ranks_crits.columns.str.contains(group)\n",
    "#         ranks_crits[f'{group}_{agg}'] = getattr(\n",
    "#             ranks_crits.loc[:, members], agg)(axis=1)\n",
    "#     ranks_crits = pd.concat([index, ranks_crits], axis=1).set_index(list(index.columns))\n",
    "#     return (\n",
    "#         ranks_crits\n",
    "#         .sort_values(by=f'{agg}_{agg}')\n",
    "# #         .reset_index(drop=True)\n",
    "#     )\n",
    "\n",
    "# %%time\n",
    "# ranks_crits = eval_crits_n_hierarchical_agg(returns, normalized_prices)\n",
    "# ranks_crits\n",
    "\n",
    "# cpl = ranks_crits.iloc[0].name\n",
    "# normalized_prices.loc[:, cpl].plot(grid=True)\n",
    "\n",
    "# cpl = ranks_crits.iloc[-1].name\n",
    "# normalized_prices.loc[:, cpl].plot(grid=True)\n",
    "\n",
    "# # Compute spread\n",
    "\n",
    "# def compute_spreads(ranks_crits, spread_comp, **kwargs):\n",
    "#     index = ranks_crits.index\n",
    "#     spreads = (\n",
    "#         index\n",
    "#         .to_frame(index=False)\n",
    "#         .T\n",
    "#         .apply(partial(spread_comp, **kwargs)))\n",
    "#     spreads.columns = index\n",
    "#     return spreads\n",
    "\n",
    "# def spread_simple(cpl, prices):\n",
    "#     prices_0 = prices.loc[:, cpl[0]]\n",
    "#     prices_1 = prices.loc[:, cpl[1]]\n",
    "#     return prices_0 - prices_1\n",
    "\n",
    "# def spread_lin_reg(cpl, prices, fit_intercept=False):\n",
    "#     xxx = prices.loc[:, cpl[0]].values.reshape(-1, 1)\n",
    "#     yyy = prices.loc[:, cpl[1]]\n",
    "#     lin_reg = LinearRegression(fit_intercept=fit_intercept)\n",
    "#     lin_reg.fit(xxx, yyy)\n",
    "#     spread = np.dot(xxx, lin_reg.coef_) + lin_reg.intercept_ - yyy\n",
    "#     return spread\n",
    "\n",
    "# spreads_simple = compute_spreads(ranks_crits, spread_simple, prices=normalized_prices)\n",
    "# spread = spreads_simple.iloc[:, 0]\n",
    "# spread.plot(grid=True)\n",
    "# spread.describe()\n",
    "\n",
    "# prcs = {'prices': prices, 'n_prices': normalized_prices}\n",
    "# spreads_lin_regs = {\n",
    "#     (name_prc, fit_intercept): compute_spreads(\n",
    "#         ranks_crits, spread_lin_reg, prices=prc, fit_intercept=fit_intercept)\n",
    "#     for name_prc, prc in prcs.items()\n",
    "#     for fit_intercept in [True, False]\n",
    "# }\n",
    "\n",
    "# for params, spreads in spreads_lin_regs.items():\n",
    "#     print(params)\n",
    "#     spread = spreads.iloc[:, 0]\n",
    "#     spread.plot(grid=True)\n",
    "#     print(spread.describe())\n",
    "#     plt.show()"
   ]
  }
 ],
 "metadata": {
  "kernelspec": {
   "display_name": "Python 3 (ipykernel)",
   "language": "python",
   "name": "python3"
  },
  "language_info": {
   "codemirror_mode": {
    "name": "ipython",
    "version": 3
   },
   "file_extension": ".py",
   "mimetype": "text/x-python",
   "name": "python",
   "nbconvert_exporter": "python",
   "pygments_lexer": "ipython3",
   "version": "3.10.4"
  }
 },
 "nbformat": 4,
 "nbformat_minor": 5
}
