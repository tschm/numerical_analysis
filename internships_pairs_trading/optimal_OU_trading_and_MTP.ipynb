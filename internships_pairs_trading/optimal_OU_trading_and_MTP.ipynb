{
 "cells": [
  {
   "cell_type": "code",
   "execution_count": null,
   "id": "alternative-darkness",
   "metadata": {},
   "outputs": [],
   "source": [
    "from itertools import combinations, accumulate\n",
    "from functools import partial\n",
    "from multiprocessing import Pool\n",
    "import numpy as np\n",
    "import pandas as pd\n",
    "import matplotlib.pyplot as plt\n",
    "from utils import optimal_ou_threshold, ou_fit, bootstrapped_quantile\n",
    "import warnings\n",
    "warnings.filterwarnings('ignore')"
   ]
  },
  {
   "cell_type": "code",
   "execution_count": null,
   "id": "e34352a7",
   "metadata": {},
   "outputs": [],
   "source": [
    "COST = 1e-2\n",
    "PCT = 1e-2\n",
    "ALPHA = 5e-2"
   ]
  },
  {
   "cell_type": "markdown",
   "id": "tough-guinea",
   "metadata": {},
   "source": [
    "# Get univ"
   ]
  },
  {
   "cell_type": "raw",
   "id": "40bec48b",
   "metadata": {},
   "source": [
    "import yfinance as yf\n",
    "\n",
    "def load_close_prices(tickers):\n",
    "#     prices are not adjusted for splits or dividends\n",
    "    history = {\n",
    "        tic: yf.Ticker(tic).history(period='max')\n",
    "        for tic in tickers}\n",
    "    indexes = [set(data.index) for data in history.values()]\n",
    "    index = sorted(set.union(*indexes))\n",
    "    closes = pd.concat([\n",
    "        history[tic].reindex(index=index)['Close'].ffill()\n",
    "        for tic in tickers], axis=1)\n",
    "    closes.columns = tickers\n",
    "    stacked = closes.stack().reset_index()\n",
    "    stacked.columns = ['date', 'ticker', 'price']\n",
    "    return stacked\n",
    "\n",
    "yf_tickers = [\n",
    "    'nio', 'dwac', 'edu', 'didi', 'gme', 'aapl', 'tsla', 'amc', 'pg', 'f', 'snap', 'amzn',\n",
    "    'dis', 'msft', 'ge', 'rivn', 'bros', 'goog', 'googl', 'ccl', 'amd', 'nvda']\n",
    "prices = (\n",
    "    load_close_prices(yf_tickers)\n",
    "    .pivot(index='date', columns='ticker', values='price')\n",
    ")\n",
    "prices.to_parquet('prices_yf.parquet')"
   ]
  },
  {
   "cell_type": "code",
   "execution_count": null,
   "id": "informative-receiver",
   "metadata": {},
   "outputs": [],
   "source": [
    "prices = pd.read_parquet('prices_yf.parquet')\n",
    "THRES = 0.8\n",
    "nulls = prices.isnull().mean(axis=0)\n",
    "stocks_w_nans = nulls[nulls > THRES].sort_values()\n",
    "stocks_w_nans"
   ]
  },
  {
   "cell_type": "code",
   "execution_count": null,
   "id": "great-baptist",
   "metadata": {},
   "outputs": [],
   "source": [
    "cols = prices.columns\n",
    "stocks = cols[~cols.isin(stocks_w_nans.index)]\n",
    "prices = (\n",
    "    prices\n",
    "#     .loc[:, stocks]\n",
    "#     .ffill(limit=2)\n",
    "#     .dropna()\n",
    ")"
   ]
  },
  {
   "cell_type": "code",
   "execution_count": null,
   "id": "pretty-homework",
   "metadata": {},
   "outputs": [],
   "source": [
    "univ_stacked = pd.concat([\n",
    "    prices.stack(dropna=False).reset_index(),\n",
    "    prices.pct_change().stack(dropna=False).reset_index()[0]  # column 0; not clean (dividends, splits, ...)\n",
    "], axis=1)\n",
    "univ_stacked.columns = ['date', 'id', 'price', 'chg']  # price is mid_price\n",
    "CUT = '2007'  # '2006-09-19'\n",
    "univ_stacked = univ_stacked.query(f'date >= {CUT}')"
   ]
  },
  {
   "cell_type": "code",
   "execution_count": null,
   "id": "identified-magnet",
   "metadata": {},
   "outputs": [],
   "source": [
    "univ = univ_stacked.pivot(index='date', columns='id')\n",
    "univ"
   ]
  },
  {
   "cell_type": "markdown",
   "id": "legal-coating",
   "metadata": {},
   "source": [
    "# Cointegration coefficients and spreads"
   ]
  },
  {
   "cell_type": "code",
   "execution_count": null,
   "id": "demographic-jesus",
   "metadata": {},
   "outputs": [],
   "source": [
    "def compute_coint_coeff(pair, univ):\n",
    "    prices = univ['price'].loc[:, pair]\n",
    "    invs = prices.iloc[0].rdiv(1)\n",
    "    invs.loc[pair[1]] *= -1\n",
    "    return invs\n",
    "\n",
    "pair = ('dis', 'pg')\n",
    "coeff = compute_coint_coeff(pair, univ)\n",
    "coeff"
   ]
  },
  {
   "cell_type": "code",
   "execution_count": null,
   "id": "after-disabled",
   "metadata": {},
   "outputs": [],
   "source": [
    "def form_spread(pair, coeff, prices):\n",
    "    return prices.loc[:, pair].mul(coeff, axis=1).sum(axis=1)\n",
    "\n",
    "spread = form_spread(pair, coeff, univ['price'])\n",
    "spread.plot(grid=True)\n",
    "spread.mean()"
   ]
  },
  {
   "cell_type": "code",
   "execution_count": null,
   "id": "680ee657",
   "metadata": {},
   "outputs": [],
   "source": [
    "def get_spreads(univ):\n",
    "    pairs = list(combinations(univ['price'].columns, 2))\n",
    "    coeffs = {pair: compute_coint_coeff(pair, univ) for pair in pairs}\n",
    "    spreads = pd.DataFrame({\n",
    "        pair: form_spread(pair, coeff, univ['price']) for pair, coeff in coeffs.items()})\n",
    "    return pairs, coeffs, spreads\n",
    "\n",
    "pairs, coeffs, spreads = get_spreads(univ)"
   ]
  },
  {
   "cell_type": "markdown",
   "id": "c5cdead4",
   "metadata": {},
   "source": [
    "# Trading rule"
   ]
  },
  {
   "cell_type": "code",
   "execution_count": null,
   "id": "9dbbe0e9",
   "metadata": {},
   "outputs": [],
   "source": [
    "def trading_rule(cur_pos_spread, st_spread, thres=1):\n",
    "    if st_spread < -thres:\n",
    "        new_pos_spread = +1\n",
    "    elif st_spread > +thres:\n",
    "        new_pos_spread = -1\n",
    "    # st_spread in [-kwargs['low'], kwargs['high']]\n",
    "    else:\n",
    "        new_pos_spread = cur_pos_spread\n",
    "    return new_pos_spread\n",
    "\n",
    "xxx = np.linspace(0, 3, 100)\n",
    "yyy = 2 * np.sin(3 * xxx)\n",
    "\n",
    "pos_spread = accumulate(yyy, trading_rule, initial=0)\n",
    "pos_spread = list(pos_spread)[:-1]\n",
    "plt.plot(xxx, pos_spread)\n",
    "plt.plot(xxx, yyy)\n",
    "plt.grid(True)"
   ]
  },
  {
   "cell_type": "code",
   "execution_count": null,
   "id": "0a682643",
   "metadata": {},
   "outputs": [],
   "source": [
    "def trade_series(st_spread, trade_rule, **kwargs):\n",
    "    rule = partial(trade_rule, **kwargs)\n",
    "    pos_spread = accumulate(st_spread.values, rule, initial=0)\n",
    "    return pd.Series(index=st_spread.index, data=list(pos_spread)[:-1])\n",
    "\n",
    "xxx = np.linspace(0, 3, 100)\n",
    "yyy = pd.Series(2 * np.sin(3 * xxx))\n",
    "\n",
    "pos_spread = trade_series(yyy, trading_rule, thres=1)\n",
    "plt.plot(xxx, pos_spread)\n",
    "plt.plot(xxx, yyy)\n",
    "plt.grid(True)"
   ]
  },
  {
   "cell_type": "code",
   "execution_count": null,
   "id": "e13a56ea",
   "metadata": {},
   "outputs": [],
   "source": [
    "def trade(univ_out, top_pairs, descs, trade_rule, **kwargs):\n",
    "    coeffs = {pair: compute_coint_coeff(pair, univ_out) for pair in top_pairs}\n",
    "    # it is not forward looking as only the first price is used\n",
    "    spreads = pd.DataFrame({pair: form_spread(\n",
    "        pair, coeff, univ_out['price']) for pair, coeff in coeffs.items()})\n",
    "    st_spreads = (spreads - descs.loc['mean', :]) / descs.loc['std', :]\n",
    "    pos_spreads = st_spreads.apply(partial(trade_series, trade_rule=trade_rule, **kwargs))\n",
    "    return coeffs, spreads, pos_spreads"
   ]
  },
  {
   "cell_type": "code",
   "execution_count": null,
   "id": "3abcec28",
   "metadata": {},
   "outputs": [],
   "source": [
    "def pos_spread_to_pos(pos_spread, coeff):\n",
    "    return pd.DataFrame(\n",
    "        index=pos_spread.index,\n",
    "        columns=coeff.index,\n",
    "        data=pos_spread.values.reshape(-1, 1) * coeff.values.reshape(1, -1)\n",
    "    )\n",
    "\n",
    "pos = pos_spread_to_pos(pos_spread, coeffs[pair])\n",
    "chgs = univ['chg'].loc[:, pair].shift(-1)\n",
    "pos.mul(chgs).sum(axis=1)"
   ]
  },
  {
   "cell_type": "code",
   "execution_count": null,
   "id": "37c84380",
   "metadata": {},
   "outputs": [],
   "source": [
    "def net_positions(pos, cols=('date', 'id', 'pos')):\n",
    "    if not (vals := pos.values()):\n",
    "        res = None\n",
    "    else:\n",
    "        res = (\n",
    "            pd.concat(vals, axis=1)\n",
    "            .stack()\n",
    "            .groupby([cols[0], cols[1]])\n",
    "            .sum()\n",
    "            .rename(cols[2])\n",
    "            .reset_index()\n",
    "            .pivot(index=cols[0], columns=cols[1], values=cols[2]))\n",
    "    return res\n",
    "\n",
    "pairs, _, spreads = get_spreads(univ)\n",
    "descs = spreads.describe()\n",
    "# for the time being: describe() --> .apply(partial(get_desc, cost=COST))\n",
    "coeffs, spreads, pos_spreads = trade(\n",
    "    univ, pairs, descs, trading_rule, thres=1)\n",
    "pos = {pair: pos_spread_to_pos(pos_spreads.loc[:, pair], coeffs[pair]) for pair in pairs}\n",
    "net_pos = net_positions(pos)\n",
    "net_pos"
   ]
  },
  {
   "cell_type": "code",
   "execution_count": null,
   "id": "6d59e565",
   "metadata": {},
   "outputs": [],
   "source": [
    "def rets_pairs(pairs, coeffs, spreads, univ):\n",
    "    def rets_one_pair(pair):\n",
    "        pos = pos_spread_to_pos(spreads.loc[:, pair], coeffs[pair])\n",
    "        chgs = univ['chg'].loc[:, pair].shift(-1)\n",
    "        return pos.mul(chgs).sum(axis=1).rename(pair)\n",
    "    return pd.concat([rets_one_pair(pair) for pair in pairs], axis=1)\n",
    "\n",
    "rets_pairs(pairs, coeffs, spreads, univ)"
   ]
  },
  {
   "cell_type": "markdown",
   "id": "23c660fb",
   "metadata": {},
   "source": [
    "# Fit OU"
   ]
  },
  {
   "cell_type": "code",
   "execution_count": null,
   "id": "48713b6b",
   "metadata": {},
   "outputs": [],
   "source": [
    "def get_desc(spread, cost):\n",
    "    ou_params = ou_fit(spread.values)\n",
    "    params = {'mean': ou_params['mean']}\n",
    "    del ou_params['mean']\n",
    "    params['std'] = optimal_ou_threshold(**ou_params, cost=cost)\n",
    "    return pd.Series(params)"
   ]
  },
  {
   "cell_type": "code",
   "execution_count": null,
   "id": "5149bf2e",
   "metadata": {},
   "outputs": [],
   "source": [
    "pair = pairs[5]\n",
    "spread = spreads.loc[:, pair]\n",
    "desc = get_desc(spread, COST)\n",
    "st_spread = (spread - desc.loc['mean']) / desc.loc['std']\n",
    "st_spread.plot(grid=True)\n",
    "print((spread - desc.loc['mean']).mean(), st_spread.mean())\n",
    "pos_spread = trade_series(st_spread, trading_rule, thres=1)\n",
    "pos_spread.mul(st_spread.abs().max()).plot(grid=True)"
   ]
  },
  {
   "cell_type": "markdown",
   "id": "8e6db67b",
   "metadata": {},
   "source": [
    "# Selection: Multi Hypotheses Testing"
   ]
  },
  {
   "cell_type": "code",
   "execution_count": null,
   "id": "ee17a2d3",
   "metadata": {},
   "outputs": [],
   "source": [
    "%%time\n",
    "pairs, coeffs, spreads = get_spreads(univ)\n",
    "rets = rets_pairs(pairs, coeffs, spreads, univ)\n",
    "n_fd = int(np.ceil(PCT * rets.shape[1]))\n",
    "thres = bootstrapped_quantile(rets, n_fd, ALPHA)\n",
    "selected = rets.mean().div(rets.std()).ge(thres)\n",
    "selected[selected].index.to_list()"
   ]
  },
  {
   "cell_type": "code",
   "execution_count": null,
   "id": "1d756da9",
   "metadata": {},
   "outputs": [],
   "source": [
    "def single_step_selection(rets, n_fd=None, alpha=ALPHA):\n",
    "    if n_fd is None:\n",
    "        n_fd = int(np.ceil(PCT * rets.shape[1]))\n",
    "    thres = bootstrapped_quantile(rets, n_fd, alpha)\n",
    "    selected = rets.mean().div(rets.std()).ge(thres)\n",
    "    return selected[selected].index.to_list()\n",
    "\n",
    "single_step_selection(rets, 2, 0.05)"
   ]
  },
  {
   "cell_type": "code",
   "execution_count": null,
   "id": "a153da34",
   "metadata": {},
   "outputs": [],
   "source": [
    "def fit(univ, n_fd=None, alpha=ALPHA, cost=COST, thres_trade=1):\n",
    "    pairs, _, spreads = get_spreads(univ)\n",
    "    descs = spreads.apply(partial(get_desc, cost=cost))\n",
    "    coeffs, spreads, pos_spreads = trade(\n",
    "        univ, pairs, descs, trading_rule, thres=thres_trade)\n",
    "    rets = rets_pairs(pairs, coeffs, spreads, univ)\n",
    "    selected = single_step_selection(rets, n_fd, alpha)\n",
    "    coeffs = {pair: coeffs[pair] for pair in selected}\n",
    "    return selected, coeffs, spreads[selected], descs.loc[:, selected]\n",
    "\n",
    "top_pairs, coeffs, spreads, descs = fit(univ)\n",
    "spreads"
   ]
  },
  {
   "cell_type": "markdown",
   "id": "turned-steel",
   "metadata": {},
   "source": [
    "# Rolling"
   ]
  },
  {
   "cell_type": "code",
   "execution_count": null,
   "id": "50830aad",
   "metadata": {},
   "outputs": [],
   "source": [
    "CUT = '2014'\n",
    "univ_in = univ.loc[:CUT]\n",
    "univ_out = univ.loc[CUT:]"
   ]
  },
  {
   "cell_type": "code",
   "execution_count": null,
   "id": "f294dc67",
   "metadata": {},
   "outputs": [],
   "source": [
    "def fit_n_trade(univ_in, univ_out, **kwargs):\n",
    "    top_pairs, coeffs, spreads, descs = fit(univ_in, **kwargs)\n",
    "    thres = {'thres': kwargs['thres_trade']} if 'thres_trade' in kwargs else {}\n",
    "    coeffs, _, pos_spread = trade(univ_out, top_pairs, descs, trading_rule, **thres)\n",
    "    pos = {pair: pos_spread_to_pos(pos_spread.loc[:, pair], coeffs[pair]) for pair in top_pairs}\n",
    "    return net_positions(pos)\n",
    "\n",
    "_ = fit_n_trade(univ_in, univ_out)"
   ]
  },
  {
   "cell_type": "code",
   "execution_count": null,
   "id": "0028b226",
   "metadata": {},
   "outputs": [],
   "source": [
    "kwargs = {}\n",
    "\n",
    "top_pairs, coeffs, spreads, descs = fit(univ_in, **kwargs)\n",
    "thres = {'thres': kwargs['thres_trade']} if 'thres_trade' in kwargs else {}\n",
    "coeffs, _, pos_spread = trade(univ_out, top_pairs, descs, trading_rule, **thres)\n",
    "pos = {pair: pos_spread_to_pos(pos_spread.loc[:, pair], coeffs[pair]) for pair in top_pairs}"
   ]
  },
  {
   "cell_type": "code",
   "execution_count": null,
   "id": "8f4ac0c8",
   "metadata": {},
   "outputs": [],
   "source": [
    "univ = univ.copy()\n",
    "thres = 1\n",
    "gcd = '2Q'"
   ]
  },
  {
   "cell_type": "code",
   "execution_count": null,
   "id": "proved-remains",
   "metadata": {},
   "outputs": [],
   "source": [
    "%%time\n",
    "dates = pd.Series(index=univ.index, data=0)\n",
    "cuts = dates.resample(gcd).first().index\n",
    "splits = [\n",
    "    ((start, start_2), (start_2 + pd.Timedelta(days=1), start_3))\n",
    "    for start, start_2, start_3\n",
    "    in zip(cuts, cuts[2:], cuts[3:])]\n",
    "\n",
    "def fit_n_trade_split(split):\n",
    "    return fit_n_trade(\n",
    "        univ.loc[split[0][0]:split[0][1]],\n",
    "        univ.loc[split[1][0]:split[1][1]],\n",
    "        )\n",
    "\n",
    "with Pool() as pool:\n",
    "    pos = list(pool.imap_unordered(fit_n_trade_split, splits))\n",
    "    pos = [p for p in pos if p is not None]\n",
    "    positions = pd.concat(pos).sort_index() if pos else None\n",
    "\n",
    "# CPU times: user 110 ms, sys: 23.8 ms, total: 134 ms\n",
    "# Wall time: 57.2 s"
   ]
  },
  {
   "cell_type": "code",
   "execution_count": null,
   "id": "167b90fb",
   "metadata": {},
   "outputs": [],
   "source": [
    "assert positions is not None"
   ]
  },
  {
   "cell_type": "code",
   "execution_count": null,
   "id": "yellow-circuit",
   "metadata": {},
   "outputs": [],
   "source": [
    "positions[positions.abs().gt(0)].count(axis=1).plot(grid=True)"
   ]
  },
  {
   "cell_type": "code",
   "execution_count": null,
   "id": "sorted-consciousness",
   "metadata": {},
   "outputs": [],
   "source": [
    "positions.sum(axis=1).plot(grid=True)"
   ]
  },
  {
   "cell_type": "code",
   "execution_count": null,
   "id": "protected-lending",
   "metadata": {},
   "outputs": [],
   "source": [
    "positions.abs().sum(axis=1).plot(grid=True)"
   ]
  },
  {
   "cell_type": "code",
   "execution_count": null,
   "id": "rural-infrared",
   "metadata": {},
   "outputs": [],
   "source": [
    "positions = (\n",
    "    positions\n",
    "    .div(positions.abs().sum(axis=1), axis=0)\n",
    "    .fillna(0))\n",
    "positions.abs().sum(axis=1).plot(grid=True)"
   ]
  },
  {
   "cell_type": "code",
   "execution_count": null,
   "id": "solved-sending",
   "metadata": {},
   "outputs": [],
   "source": [
    "positions.sum(axis=1).plot(grid=True)"
   ]
  },
  {
   "cell_type": "code",
   "execution_count": null,
   "id": "single-arrangement",
   "metadata": {},
   "outputs": [],
   "source": [
    "positions.diff().abs().sum(axis=1).plot(grid=True)"
   ]
  }
 ],
 "metadata": {
  "kernelspec": {
   "display_name": "Python 3 (ipykernel)",
   "language": "python",
   "name": "python3"
  },
  "language_info": {
   "codemirror_mode": {
    "name": "ipython",
    "version": 3
   },
   "file_extension": ".py",
   "mimetype": "text/x-python",
   "name": "python",
   "nbconvert_exporter": "python",
   "pygments_lexer": "ipython3",
   "version": "3.10.4"
  }
 },
 "nbformat": 4,
 "nbformat_minor": 5
}
