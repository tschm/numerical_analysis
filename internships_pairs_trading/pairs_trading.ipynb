{
 "cells": [
  {
   "cell_type": "code",
   "execution_count": null,
   "id": "alternative-darkness",
   "metadata": {},
   "outputs": [],
   "source": [
    "from itertools import combinations\n",
    "from functools import partial\n",
    "import numpy as np\n",
    "from numpy.linalg import norm\n",
    "import pandas as pd\n",
    "from sklearn.linear_model import LinearRegression\n",
    "import matplotlib.pyplot as plt"
   ]
  },
  {
   "cell_type": "code",
   "execution_count": null,
   "id": "assured-fleece",
   "metadata": {},
   "outputs": [],
   "source": [
    "# import yfinance as yf\n",
    "\n",
    "# def load_close_prices(tickers):\n",
    "# #     prices are not adjusted for splits or dividends\n",
    "#     history = {\n",
    "#         tic: yf.Ticker(tic).history(period='max')\n",
    "#         for tic in tickers}\n",
    "#     indexes = [set(data.index) for data in history.values()]\n",
    "#     index = sorted(set.union(*indexes))\n",
    "#     closes = pd.concat([\n",
    "#         history[tic].reindex(index=index)['Close'].ffill()\n",
    "#         for tic in tickers], axis=1)\n",
    "#     closes.columns = tickers\n",
    "#     stacked = closes.stack().reset_index()\n",
    "#     stacked.columns = ['date', 'ticker', 'price']\n",
    "#     return stacked\n",
    "\n",
    "# yf_tickers = [\n",
    "#     'nio', 'dwac', 'edu', 'didi', 'gme', 'aapl', 'tsla', 'amc', 'pg', 'f', 'snap', 'amzn',\n",
    "#     'dis', 'msft', 'ge', 'rivn', 'bros', 'goog', 'googl', 'ccl', 'amd', 'nvda']\n",
    "# prices = (\n",
    "#     load_close_prices(yf_tickers)\n",
    "#     .pivot(index='date', columns='ticker', values='price')\n",
    "# )\n",
    "# prices.to_parquet('prices_yf.parquet')"
   ]
  },
  {
   "cell_type": "markdown",
   "id": "hourly-portland",
   "metadata": {},
   "source": [
    "# Normalized prices and \" returns \""
   ]
  },
  {
   "cell_type": "code",
   "execution_count": null,
   "id": "informative-receiver",
   "metadata": {},
   "outputs": [],
   "source": [
    "prices = pd.read_parquet('prices_yf.parquet')\n",
    "THRES = 0.8\n",
    "nulls = prices.isnull().mean(axis=0)\n",
    "stocks_w_nans = nulls[nulls > THRES].sort_values()\n",
    "stocks_w_nans"
   ]
  },
  {
   "cell_type": "code",
   "execution_count": null,
   "id": "great-baptist",
   "metadata": {},
   "outputs": [],
   "source": [
    "cols = prices.columns\n",
    "stocks = cols[~cols.isin(stocks_w_nans.index)]\n",
    "prices = (\n",
    "    prices\n",
    "    .loc[:, stocks]\n",
    "    .ffill()\n",
    "    .dropna())\n",
    "returns = prices.pct_change().iloc[1:, :]  # not clean\n",
    "prices"
   ]
  },
  {
   "cell_type": "code",
   "execution_count": null,
   "id": "foreign-pioneer",
   "metadata": {},
   "outputs": [],
   "source": [
    "normalizations = prices.iloc[0, :]\n",
    "normalized_prices = (prices / normalizations).iloc[1:, :]"
   ]
  },
  {
   "cell_type": "markdown",
   "id": "statistical-yukon",
   "metadata": {},
   "source": [
    "# Cointegration criteria"
   ]
  },
  {
   "cell_type": "code",
   "execution_count": null,
   "id": "tired-antarctica",
   "metadata": {},
   "outputs": [],
   "source": [
    "def returns_corr(cpl, method, returns):\n",
    "    # method in {‘pearson’, ‘kendall’, ‘spearman’}\n",
    "    return returns.loc[:, cpl].corr(method=method).iloc[0, 1]\n",
    "\n",
    "def diff_prices(cpl, normalized_prices):\n",
    "    prices_0 = normalized_prices.loc[:, cpl[0]]\n",
    "    prices_1 = normalized_prices.loc[:, cpl[1]]\n",
    "    return norm(prices_0 - prices_1)\n",
    "\n",
    "def ratio_prices(cpl, normalized_prices):\n",
    "    prices_0 = normalized_prices.loc[:, cpl[0]]\n",
    "    prices_1 = normalized_prices.loc[:, cpl[1]]\n",
    "    return norm(prices_0 / prices_1 - 1)\n",
    "\n",
    "def diff_ranks(cpl, normalized_prices):\n",
    "    prices_ranks_0 = normalized_prices.loc[:, cpl[0]].rank()\n",
    "    prices_ranks_1 = normalized_prices.loc[:, cpl[1]].rank()\n",
    "    return norm(prices_ranks_0 - prices_ranks_1)\n",
    "\n",
    "def ratio_ranks(cpl, normalized_prices):\n",
    "    prices_ranks_0 = normalized_prices.loc[:, cpl[0]].rank()\n",
    "    prices_ranks_1 = normalized_prices.loc[:, cpl[1]].rank()\n",
    "    return norm(prices_ranks_0 / prices_ranks_1 - 1)\n",
    "\n",
    "methods = ['pearson', 'kendall', 'spearman']\n",
    "funs = [\n",
    "    diff_prices,\n",
    "    diff_ranks,\n",
    "    ratio_prices,\n",
    "    ratio_ranks]"
   ]
  },
  {
   "cell_type": "code",
   "execution_count": null,
   "id": "boxed-inspiration",
   "metadata": {},
   "outputs": [],
   "source": [
    "def cointegration_criteria(cpl, returns, normalized_prices):\n",
    "    crits = {\n",
    "        f'corr_returns_{method}': returns_corr(cpl, method, returns)\n",
    "        for method in methods}\n",
    "    crits.update({fun.__name__: fun(cpl, normalized_prices) for fun in funs})\n",
    "    return pd.Series(crits)\n",
    "\n",
    "def eval_crits_n_hierarchical_agg(returns, normalized_prices, agg='mean'):\n",
    "    stocks = normalized_prices.columns\n",
    "    index = pd.DataFrame(data=combinations(stocks, 2))\n",
    "    index.columns = 'stock_' + index.columns.astype(str)\n",
    "    coint_crit = partial(\n",
    "        cointegration_criteria, returns=returns, normalized_prices=normalized_prices)\n",
    "    ranks_crits = index.apply(coint_crit, axis=1).rank()\n",
    "    groups = [fun.__name__.split('_')[-1] for fun in funs] + ['corr', agg]\n",
    "    for group in groups:\n",
    "        members = ranks_crits.columns.str.contains(group)\n",
    "        ranks_crits[f'{group}_{agg}'] = getattr(\n",
    "            ranks_crits.loc[:, members], agg)(axis=1)\n",
    "    ranks_crits = pd.concat([index, ranks_crits], axis=1).set_index(list(index.columns))\n",
    "    return (\n",
    "        ranks_crits\n",
    "        .sort_values(by=f'{agg}_{agg}')\n",
    "#         .reset_index(drop=True)\n",
    "    )"
   ]
  },
  {
   "cell_type": "code",
   "execution_count": null,
   "id": "chief-print",
   "metadata": {},
   "outputs": [],
   "source": [
    "%%time\n",
    "ranks_crits = eval_crits_n_hierarchical_agg(returns, normalized_prices)\n",
    "ranks_crits"
   ]
  },
  {
   "cell_type": "code",
   "execution_count": null,
   "id": "turkish-comparison",
   "metadata": {},
   "outputs": [],
   "source": [
    "cpl = ranks_crits.iloc[0].name\n",
    "normalized_prices.loc[:, cpl].plot(grid=True)"
   ]
  },
  {
   "cell_type": "code",
   "execution_count": null,
   "id": "incorporated-block",
   "metadata": {},
   "outputs": [],
   "source": [
    "cpl = ranks_crits.iloc[-1].name\n",
    "normalized_prices.loc[:, cpl].plot(grid=True)"
   ]
  },
  {
   "cell_type": "markdown",
   "id": "polyphonic-liabilities",
   "metadata": {},
   "source": [
    "# Compute spread"
   ]
  },
  {
   "cell_type": "code",
   "execution_count": null,
   "id": "breeding-gentleman",
   "metadata": {},
   "outputs": [],
   "source": [
    "def compute_spreads(ranks_crits, spread_comp, **kwargs):\n",
    "    index = ranks_crits.index\n",
    "    spreads = (\n",
    "        index\n",
    "        .to_frame(index=False)\n",
    "        .T\n",
    "        .apply(partial(spread_comp, **kwargs)))\n",
    "    spreads.columns = index\n",
    "    return spreads\n",
    "\n",
    "def spread_simple(cpl, prices):\n",
    "    prices_0 = prices.loc[:, cpl[0]]\n",
    "    prices_1 = prices.loc[:, cpl[1]]\n",
    "    return prices_0 - prices_1\n",
    "\n",
    "def spread_lin_reg(cpl, prices, fit_intercept=False):\n",
    "    xxx = prices.loc[:, cpl[0]].values.reshape(-1, 1)\n",
    "    yyy = prices.loc[:, cpl[1]]\n",
    "    lin_reg = LinearRegression(fit_intercept=fit_intercept)\n",
    "    lin_reg.fit(xxx, yyy)\n",
    "    spread = np.dot(xxx, lin_reg.coef_) + lin_reg.intercept_ - yyy\n",
    "    return spread"
   ]
  },
  {
   "cell_type": "code",
   "execution_count": null,
   "id": "fifty-purpose",
   "metadata": {
    "scrolled": false
   },
   "outputs": [],
   "source": [
    "spreads_simple = compute_spreads(ranks_crits, spread_simple, prices=normalized_prices)\n",
    "spread = spreads_simple.iloc[:, 0]\n",
    "spread.plot(grid=True)\n",
    "spread.describe()"
   ]
  },
  {
   "cell_type": "code",
   "execution_count": null,
   "id": "occupied-trauma",
   "metadata": {},
   "outputs": [],
   "source": [
    "prcs = {'prices': prices, 'n_prices': normalized_prices}\n",
    "spreads_lin_regs = {\n",
    "    (name_prc, fit_intercept): compute_spreads(\n",
    "        ranks_crits, spread_lin_reg, prices=prc, fit_intercept=fit_intercept)\n",
    "    for name_prc, prc in prcs.items()\n",
    "    for fit_intercept in [True, False]\n",
    "}"
   ]
  },
  {
   "cell_type": "code",
   "execution_count": null,
   "id": "choice-supplier",
   "metadata": {
    "scrolled": true
   },
   "outputs": [],
   "source": [
    "for params, spreads in spreads_lin_regs.items():\n",
    "    print(params)\n",
    "    spread = spreads.iloc[:, 0]\n",
    "    spread.plot(grid=True)\n",
    "    print(spread.describe())\n",
    "    plt.show()"
   ]
  },
  {
   "cell_type": "code",
   "execution_count": null,
   "id": "informative-nevada",
   "metadata": {},
   "outputs": [],
   "source": []
  }
 ],
 "metadata": {
  "kernelspec": {
   "display_name": "Python 3",
   "language": "python",
   "name": "python3"
  },
  "language_info": {
   "codemirror_mode": {
    "name": "ipython",
    "version": 3
   },
   "file_extension": ".py",
   "mimetype": "text/x-python",
   "name": "python",
   "nbconvert_exporter": "python",
   "pygments_lexer": "ipython3",
   "version": "3.9.9"
  }
 },
 "nbformat": 4,
 "nbformat_minor": 5
}
