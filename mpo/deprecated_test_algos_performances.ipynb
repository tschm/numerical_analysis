{
 "cells": [
  {
   "cell_type": "code",
   "execution_count": null,
   "id": "sized-advance",
   "metadata": {},
   "outputs": [],
   "source": [
    "from proximal_operators import *\n",
    "from auxiliary_functions import *\n",
    "from algos import *\n",
    "from test import *"
   ]
  },
  {
   "cell_type": "code",
   "execution_count": null,
   "id": "lasting-entry",
   "metadata": {},
   "outputs": [],
   "source": [
    "dim = 10000  # add checks for correct accuracies...\n",
    "seed = None"
   ]
  },
  {
   "cell_type": "markdown",
   "id": "established-wright",
   "metadata": {},
   "source": [
    "# Dykstra"
   ]
  },
  {
   "cell_type": "code",
   "execution_count": null,
   "id": "adjusted-vegetable",
   "metadata": {},
   "outputs": [],
   "source": [
    "projs = [\n",
    "    partial(proj_box, lwb=0, upb=0.5),\n",
    "    partial(proj_affine_hyperplane, vec_or=np.ones(dim), intercept=1)]"
   ]
  },
  {
   "cell_type": "code",
   "execution_count": null,
   "id": "missing-witness",
   "metadata": {},
   "outputs": [],
   "source": [
    "%%timeit\n",
    "sol, errs, vrbls = dykstra(test_gen_mat_vec(seed, dim)[1], projs)\n",
    "# print(vrbls.keys())\n",
    "# fit_log_errs(errs, True)"
   ]
  },
  {
   "cell_type": "markdown",
   "id": "regulated-radar",
   "metadata": {},
   "source": [
    "# Long-only fully invested"
   ]
  },
  {
   "cell_type": "code",
   "execution_count": null,
   "id": "understood-dealer",
   "metadata": {},
   "outputs": [],
   "source": [
    "%%timeit\n",
    "sol_apgd_simplex, errs, vrbls = apgd(*test_gen_mat_vec(seed, dim), proj_simplex, som=1)\n",
    "# print(vrbls.keys())\n",
    "# fit_log_errs(errs, True)"
   ]
  },
  {
   "cell_type": "markdown",
   "id": "future-piece",
   "metadata": {},
   "source": [
    "# Long-only fully invested with box constraints"
   ]
  },
  {
   "cell_type": "code",
   "execution_count": null,
   "id": "heard-listing",
   "metadata": {},
   "outputs": [],
   "source": [
    "projs = [\n",
    "    partial(proj_box, lwb=0, upb=0.1),\n",
    "    partial(proj_affine_hyperplane, vec_or=np.ones(dim), intercept=1)]\n",
    "proj = lambda vec: dykstra(vec, projs)[0]"
   ]
  },
  {
   "cell_type": "code",
   "execution_count": null,
   "id": "integrated-synthetic",
   "metadata": {},
   "outputs": [],
   "source": [
    "%%timeit\n",
    "sol_apgd_simplex, errs, vrbls = apgd(*test_gen_mat_vec(seed, dim), proj)\n",
    "# print(vrbls.keys())\n",
    "# fit_log_errs(errs, True)"
   ]
  },
  {
   "cell_type": "code",
   "execution_count": null,
   "id": "excellent-andorra",
   "metadata": {},
   "outputs": [],
   "source": []
  },
  {
   "cell_type": "code",
   "execution_count": null,
   "id": "portable-paint",
   "metadata": {},
   "outputs": [],
   "source": [
    "# Expes\n",
    "\n",
    "DIM = 1000\n",
    "orig = np.random.randn(DIM, 10 * DIM)\n",
    "CST = 1\n",
    "matrix = CST * np.matmul(orig, orig.T)\n",
    "vector = np.random.randn(DIM)\n",
    "metric = partial(norm, ord=float('inf'))\n",
    "errs_dic = dict()\n",
    "\n",
    "## Expe 1\n",
    "\n",
    "constraints = [\n",
    "    partial(proj_box, lwb=-0.5, upb=0.5),\n",
    "    partial(proj_l1_ball, rad=1),\n",
    "    partial(proj_affine_hyperplane, vec_or=np.ones(DIM), intercept=0)\n",
    "]\n",
    "\n",
    "%%time\n",
    "func = prox_grad\n",
    "result, errors = func(matrix, vector, metric, constraints, {'erg': 1e-6})\n",
    "pd.Series(result).hist(bins=100)\n",
    "errs_dic[func.__name__] = errors\n",
    "[metric(constraint(result) - result) for constraint in constraints]\n",
    "\n",
    "%%time\n",
    "func = loris_verhoeven\n",
    "result, errors = func(matrix, vector, metric, constraints, {'erg': 1e-6})\n",
    "pd.Series(result).hist(bins=100)\n",
    "errs_dic[func.__name__] = errors\n",
    "[metric(constraint(result) - result) for constraint in constraints]\n",
    "\n",
    "errs_frame = pd.concat([\n",
    "    errs.rename(columns=dict(zip(errs.columns, name + errs.columns)))\n",
    "    for name, errs in errs_dic.items()], axis=1)\n",
    "errs_frame.plot(grid=True, logy=True, figsize=(20, 15))\n",
    "\n",
    "## Expe 2\n",
    "\n",
    "constraints = [\n",
    "    partial(proj_box, lwb=0, upb=0.1),\n",
    "    partial(proj_simplex_quick, rad=1),\n",
    "]\n",
    "\n",
    "%%time\n",
    "func = prox_grad\n",
    "result, errors = func(matrix, vector, metric, constraints, {'erg': 1e-6})\n",
    "pd.Series(result).hist(bins=100)\n",
    "errs_dic[func.__name__] = errors\n",
    "[metric(constraint(result) - result) for constraint in constraints]\n",
    "\n",
    "%%time\n",
    "func = loris_verhoeven\n",
    "result, errors = func(matrix, vector, metric, constraints, {'erg': 1e-6})\n",
    "pd.Series(result).hist(bins=100)\n",
    "errs_dic[func.__name__] = errors\n",
    "[metric(constraint(result) - result) for constraint in constraints]\n",
    "\n",
    "errs_frame = pd.concat([\n",
    "    errs.rename(columns=dict(zip(errs.columns, name + errs.columns)))\n",
    "    for name, errs in errs_dic.items()], axis=1)\n",
    "errs_frame.plot(grid=True, logy=True, figsize=(20, 15))"
   ]
  }
 ],
 "metadata": {
  "kernelspec": {
   "display_name": "Python 3",
   "language": "python",
   "name": "python3"
  },
  "language_info": {
   "codemirror_mode": {
    "name": "ipython",
    "version": 3
   },
   "file_extension": ".py",
   "mimetype": "text/x-python",
   "name": "python",
   "nbconvert_exporter": "python",
   "pygments_lexer": "ipython3",
   "version": "3.9.9"
  }
 },
 "nbformat": 4,
 "nbformat_minor": 5
}
