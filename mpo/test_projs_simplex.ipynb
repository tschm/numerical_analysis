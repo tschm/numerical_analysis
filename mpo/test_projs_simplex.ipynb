{
 "cells": [
  {
   "cell_type": "code",
   "execution_count": null,
   "id": "brutal-institution",
   "metadata": {},
   "outputs": [],
   "source": [
    "import numpy as np\n",
    "import pandas as pd\n",
    "from proximal_operators import (\n",
    "    proj_simplex, proj_simplex_quick,\n",
    "    proj_simplex_active_set, proj_simplex_condat)\n",
    "from utils import gen_sym_psd, time_one_func, gen_expes_dims"
   ]
  },
  {
   "cell_type": "code",
   "execution_count": null,
   "id": "immune-carnival",
   "metadata": {},
   "outputs": [],
   "source": [
    "projs = [\n",
    "    proj_simplex,\n",
    "    proj_simplex_quick,\n",
    "    proj_simplex_active_set,\n",
    "    proj_simplex_condat\n",
    "]"
   ]
  },
  {
   "cell_type": "markdown",
   "id": "august-peoples",
   "metadata": {},
   "source": [
    "# Correctness"
   ]
  },
  {
   "cell_type": "code",
   "execution_count": null,
   "id": "sharing-karma",
   "metadata": {},
   "outputs": [],
   "source": [
    "metric = lambda x: np.linalg.norm(x, float('inf'))\n",
    "DIM = 10000\n",
    "RAD = 2\n",
    "imp = np.random.randn(DIM)\n",
    "ref = proj_simplex(imp, RAD)\n",
    "\n",
    "[\n",
    "    [(ref < 0).sum(), ref.sum()],\n",
    "    [metric(ref - proj(imp, RAD)) for proj in projs[1:]]\n",
    "]"
   ]
  },
  {
   "cell_type": "markdown",
   "id": "continental-wells",
   "metadata": {},
   "source": [
    "# Performances"
   ]
  },
  {
   "cell_type": "code",
   "execution_count": null,
   "id": "floating-tomato",
   "metadata": {},
   "outputs": [],
   "source": [
    "%%timeit\n",
    "proj_simplex(np.random.randn(DIM), RAD)"
   ]
  },
  {
   "cell_type": "code",
   "execution_count": null,
   "id": "driven-progressive",
   "metadata": {},
   "outputs": [],
   "source": [
    "%%timeit\n",
    "proj_simplex_quick(np.random.randn(DIM), RAD)"
   ]
  },
  {
   "cell_type": "code",
   "execution_count": null,
   "id": "super-fraud",
   "metadata": {},
   "outputs": [],
   "source": [
    "%%timeit\n",
    "proj_simplex_active_set(np.random.randn(DIM), RAD)"
   ]
  },
  {
   "cell_type": "code",
   "execution_count": null,
   "id": "fuzzy-division",
   "metadata": {},
   "outputs": [],
   "source": [
    "%%timeit\n",
    "proj_simplex_condat(np.random.randn(DIM), RAD)"
   ]
  },
  {
   "cell_type": "code",
   "execution_count": null,
   "id": "different-lindsay",
   "metadata": {},
   "outputs": [],
   "source": [
    "exps = gen_expes_dims(0, 6, 15, 10)\n",
    "timings = {\n",
    "    proj.__name__: time_one_func(proj, exps.copy())\n",
    "    for proj in projs}\n",
    "\n",
    "median_times = pd.DataFrame({\n",
    "    name: times.loc['50%', :] for name, times in timings.items()})\n",
    "median_times.plot(figsize=(20, 15), grid=True)"
   ]
  }
 ],
 "metadata": {
  "kernelspec": {
   "display_name": "Python 3",
   "language": "python",
   "name": "python3"
  },
  "language_info": {
   "codemirror_mode": {
    "name": "ipython",
    "version": 3
   },
   "file_extension": ".py",
   "mimetype": "text/x-python",
   "name": "python",
   "nbconvert_exporter": "python",
   "pygments_lexer": "ipython3",
   "version": "3.9.9"
  }
 },
 "nbformat": 4,
 "nbformat_minor": 5
}
